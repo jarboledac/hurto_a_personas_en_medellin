{
  "nbformat": 4,
  "nbformat_minor": 0,
  "metadata": {
    "colab": {
      "provenance": []
    },
    "kernelspec": {
      "name": "python3",
      "display_name": "Python 3"
    },
    "language_info": {
      "name": "python"
    }
  },
  "cells": [
    {
      "cell_type": "markdown",
      "source": [
        "<p><img alt=\"Colaboratory logo\" height=\"240px\" src=\"https://upload.wikimedia.org/wikipedia/commons/thumb/d/d0/Logo_EAFIT.svg/2560px-Logo_EAFIT.svg.png\" align=\"center\" hspace=\"350px\" vspace=\"0px\"></p>\n",
        "\n",
        "# **<center> Análisis base de datos de Hurtos a personas en Medellín</center>**\n",
        "\n",
        "\n",
        "\n",
        "<center>\n",
        "\n",
        "\n",
        "*Jeferson Stiven Arboleda Colorado* \\\\\n",
        "\n",
        "\n",
        "</center>"
      ],
      "metadata": {
        "id": "XD4EPayBjXJ5"
      }
    },
    {
      "cell_type": "markdown",
      "source": [
        "\n",
        "\n",
        "\n",
        "\n",
        "El conjunto de datos se obtuvo del [link](http://medata.gov.co/search/field_topic/seguridad-5/type/dataset?sort_by=changed&q=search/field_topic/seguridad-5/type/dataset&page=0%2C2). El cual tiene como última actualización el 30 de diciembre de 2022. A continución haremos una lectura de los datos"
      ],
      "metadata": {
        "id": "bFKmLQoCHnlO"
      }
    },
    {
      "cell_type": "code",
      "execution_count": 17,
      "metadata": {
        "id": "U5PZam2uGeAr"
      },
      "outputs": [],
      "source": [
        "import pandas as pd\n",
        "import matplotlib.pyplot as plt\n"
      ]
    },
    {
      "cell_type": "code",
      "source": [
        "df = pd.read_csv('/content/drive/MyDrive/Maestria_eafit/data/hurto_a_personas_301222.csv', sep=';', parse_dates=['fecha_hecho'])"
      ],
      "metadata": {
        "colab": {
          "base_uri": "https://localhost:8080/"
        },
        "id": "UNPMS0McGlk_",
        "outputId": "af562a0b-1f57-4e6b-e3a0-cf73fc9620a3"
      },
      "execution_count": 46,
      "outputs": [
        {
          "output_type": "stream",
          "name": "stderr",
          "text": [
            "<ipython-input-46-ca7d27e46181>:1: DtypeWarning: Columns (25) have mixed types. Specify dtype option on import or set low_memory=False.\n",
            "  df = pd.read_csv('/content/drive/MyDrive/Maestria_eafit/data/hurto_a_personas_301222.csv', sep=';', parse_dates=['fecha_hecho'])\n"
          ]
        }
      ]
    },
    {
      "cell_type": "code",
      "source": [
        "df.head()"
      ],
      "metadata": {
        "colab": {
          "base_uri": "https://localhost:8080/",
          "height": 473
        },
        "id": "zUAqpwT5Ha0N",
        "outputId": "693908e5-3a96-4d8c-fd3a-2992336a9e95"
      },
      "execution_count": 47,
      "outputs": [
        {
          "output_type": "execute_result",
          "data": {
            "text/plain": [
              "                fecha_hecho  cantidad   latitud   longitud    sexo  edad  \\\n",
              "0 2017-01-01 01:00:00-05:00       1.0  6.299703 -75.582016   Mujer    33   \n",
              "1 2017-01-01 15:00:00-05:00       1.0  6.250917 -75.566160   Mujer    26   \n",
              "2 2017-01-01 14:00:00-05:00       1.0  6.274836 -75.554909  Hombre    30   \n",
              "3 2017-01-01 16:00:00-05:00       1.0  6.276236 -75.553533  Hombre    37   \n",
              "4 2017-01-01 16:00:00-05:00       1.0  6.250339 -75.586914  Hombre    87   \n",
              "\n",
              "             estado_civil grupo_actor actividad_delictiva parentesco  ...  \\\n",
              "0  Unión marital de hecho    Sin dato            Sin dato   Sin dato  ...   \n",
              "1              Soltero(a)    Sin dato            Sin dato   Sin dato  ...   \n",
              "2              Soltero(a)    Sin dato            Sin dato   Sin dato  ...   \n",
              "3               Casado(a)    Sin dato            Sin dato   Sin dato  ...   \n",
              "4               Casado(a)    Sin dato            Sin dato   Sin dato  ...   \n",
              "\n",
              "         lugar   sede_receptora       bien                  categoria_bien  \\\n",
              "0  Vía pública  Doce de Octubre    Celular                      Tecnología   \n",
              "1  Vía pública       Candelaria    Celular                      Tecnología   \n",
              "2  Vía pública         Aranjuez    Celular                      Tecnología   \n",
              "3  Vía pública         Aranjuez    Celular                      Tecnología   \n",
              "4  Vía pública         Laureles  Billetera  Prendas de vestir y accesorios   \n",
              "\n",
              "  grupo_bien modelo     color   permiso unidad_medida  \\\n",
              "0  Mercancía     -1  Sin dato  Sin dato      Sin dato   \n",
              "1  Mercancía     -1  Sin dato  Sin dato      Sin dato   \n",
              "2  Mercancía     -1     Negro  Sin dato      Sin dato   \n",
              "3  Mercancía     -1     Negro  Sin dato      Sin dato   \n",
              "4  Mercancía     -1  Sin dato  Sin dato      Sin dato   \n",
              "\n",
              "                 fecha_ingestion  \n",
              "0  2022-12-30T13:40:48.000-05:00  \n",
              "1  2022-12-30T13:40:48.000-05:00  \n",
              "2  2022-12-30T13:40:48.000-05:00  \n",
              "3  2022-12-30T13:40:48.000-05:00  \n",
              "4  2022-12-30T13:40:48.000-05:00  \n",
              "\n",
              "[5 rows x 36 columns]"
            ],
            "text/html": [
              "\n",
              "  <div id=\"df-f05c516b-46e8-4577-87e7-8473ff7f5564\">\n",
              "    <div class=\"colab-df-container\">\n",
              "      <div>\n",
              "<style scoped>\n",
              "    .dataframe tbody tr th:only-of-type {\n",
              "        vertical-align: middle;\n",
              "    }\n",
              "\n",
              "    .dataframe tbody tr th {\n",
              "        vertical-align: top;\n",
              "    }\n",
              "\n",
              "    .dataframe thead th {\n",
              "        text-align: right;\n",
              "    }\n",
              "</style>\n",
              "<table border=\"1\" class=\"dataframe\">\n",
              "  <thead>\n",
              "    <tr style=\"text-align: right;\">\n",
              "      <th></th>\n",
              "      <th>fecha_hecho</th>\n",
              "      <th>cantidad</th>\n",
              "      <th>latitud</th>\n",
              "      <th>longitud</th>\n",
              "      <th>sexo</th>\n",
              "      <th>edad</th>\n",
              "      <th>estado_civil</th>\n",
              "      <th>grupo_actor</th>\n",
              "      <th>actividad_delictiva</th>\n",
              "      <th>parentesco</th>\n",
              "      <th>...</th>\n",
              "      <th>lugar</th>\n",
              "      <th>sede_receptora</th>\n",
              "      <th>bien</th>\n",
              "      <th>categoria_bien</th>\n",
              "      <th>grupo_bien</th>\n",
              "      <th>modelo</th>\n",
              "      <th>color</th>\n",
              "      <th>permiso</th>\n",
              "      <th>unidad_medida</th>\n",
              "      <th>fecha_ingestion</th>\n",
              "    </tr>\n",
              "  </thead>\n",
              "  <tbody>\n",
              "    <tr>\n",
              "      <th>0</th>\n",
              "      <td>2017-01-01 01:00:00-05:00</td>\n",
              "      <td>1.0</td>\n",
              "      <td>6.299703</td>\n",
              "      <td>-75.582016</td>\n",
              "      <td>Mujer</td>\n",
              "      <td>33</td>\n",
              "      <td>Unión marital de hecho</td>\n",
              "      <td>Sin dato</td>\n",
              "      <td>Sin dato</td>\n",
              "      <td>Sin dato</td>\n",
              "      <td>...</td>\n",
              "      <td>Vía pública</td>\n",
              "      <td>Doce de Octubre</td>\n",
              "      <td>Celular</td>\n",
              "      <td>Tecnología</td>\n",
              "      <td>Mercancía</td>\n",
              "      <td>-1</td>\n",
              "      <td>Sin dato</td>\n",
              "      <td>Sin dato</td>\n",
              "      <td>Sin dato</td>\n",
              "      <td>2022-12-30T13:40:48.000-05:00</td>\n",
              "    </tr>\n",
              "    <tr>\n",
              "      <th>1</th>\n",
              "      <td>2017-01-01 15:00:00-05:00</td>\n",
              "      <td>1.0</td>\n",
              "      <td>6.250917</td>\n",
              "      <td>-75.566160</td>\n",
              "      <td>Mujer</td>\n",
              "      <td>26</td>\n",
              "      <td>Soltero(a)</td>\n",
              "      <td>Sin dato</td>\n",
              "      <td>Sin dato</td>\n",
              "      <td>Sin dato</td>\n",
              "      <td>...</td>\n",
              "      <td>Vía pública</td>\n",
              "      <td>Candelaria</td>\n",
              "      <td>Celular</td>\n",
              "      <td>Tecnología</td>\n",
              "      <td>Mercancía</td>\n",
              "      <td>-1</td>\n",
              "      <td>Sin dato</td>\n",
              "      <td>Sin dato</td>\n",
              "      <td>Sin dato</td>\n",
              "      <td>2022-12-30T13:40:48.000-05:00</td>\n",
              "    </tr>\n",
              "    <tr>\n",
              "      <th>2</th>\n",
              "      <td>2017-01-01 14:00:00-05:00</td>\n",
              "      <td>1.0</td>\n",
              "      <td>6.274836</td>\n",
              "      <td>-75.554909</td>\n",
              "      <td>Hombre</td>\n",
              "      <td>30</td>\n",
              "      <td>Soltero(a)</td>\n",
              "      <td>Sin dato</td>\n",
              "      <td>Sin dato</td>\n",
              "      <td>Sin dato</td>\n",
              "      <td>...</td>\n",
              "      <td>Vía pública</td>\n",
              "      <td>Aranjuez</td>\n",
              "      <td>Celular</td>\n",
              "      <td>Tecnología</td>\n",
              "      <td>Mercancía</td>\n",
              "      <td>-1</td>\n",
              "      <td>Negro</td>\n",
              "      <td>Sin dato</td>\n",
              "      <td>Sin dato</td>\n",
              "      <td>2022-12-30T13:40:48.000-05:00</td>\n",
              "    </tr>\n",
              "    <tr>\n",
              "      <th>3</th>\n",
              "      <td>2017-01-01 16:00:00-05:00</td>\n",
              "      <td>1.0</td>\n",
              "      <td>6.276236</td>\n",
              "      <td>-75.553533</td>\n",
              "      <td>Hombre</td>\n",
              "      <td>37</td>\n",
              "      <td>Casado(a)</td>\n",
              "      <td>Sin dato</td>\n",
              "      <td>Sin dato</td>\n",
              "      <td>Sin dato</td>\n",
              "      <td>...</td>\n",
              "      <td>Vía pública</td>\n",
              "      <td>Aranjuez</td>\n",
              "      <td>Celular</td>\n",
              "      <td>Tecnología</td>\n",
              "      <td>Mercancía</td>\n",
              "      <td>-1</td>\n",
              "      <td>Negro</td>\n",
              "      <td>Sin dato</td>\n",
              "      <td>Sin dato</td>\n",
              "      <td>2022-12-30T13:40:48.000-05:00</td>\n",
              "    </tr>\n",
              "    <tr>\n",
              "      <th>4</th>\n",
              "      <td>2017-01-01 16:00:00-05:00</td>\n",
              "      <td>1.0</td>\n",
              "      <td>6.250339</td>\n",
              "      <td>-75.586914</td>\n",
              "      <td>Hombre</td>\n",
              "      <td>87</td>\n",
              "      <td>Casado(a)</td>\n",
              "      <td>Sin dato</td>\n",
              "      <td>Sin dato</td>\n",
              "      <td>Sin dato</td>\n",
              "      <td>...</td>\n",
              "      <td>Vía pública</td>\n",
              "      <td>Laureles</td>\n",
              "      <td>Billetera</td>\n",
              "      <td>Prendas de vestir y accesorios</td>\n",
              "      <td>Mercancía</td>\n",
              "      <td>-1</td>\n",
              "      <td>Sin dato</td>\n",
              "      <td>Sin dato</td>\n",
              "      <td>Sin dato</td>\n",
              "      <td>2022-12-30T13:40:48.000-05:00</td>\n",
              "    </tr>\n",
              "  </tbody>\n",
              "</table>\n",
              "<p>5 rows × 36 columns</p>\n",
              "</div>\n",
              "      <button class=\"colab-df-convert\" onclick=\"convertToInteractive('df-f05c516b-46e8-4577-87e7-8473ff7f5564')\"\n",
              "              title=\"Convert this dataframe to an interactive table.\"\n",
              "              style=\"display:none;\">\n",
              "        \n",
              "  <svg xmlns=\"http://www.w3.org/2000/svg\" height=\"24px\"viewBox=\"0 0 24 24\"\n",
              "       width=\"24px\">\n",
              "    <path d=\"M0 0h24v24H0V0z\" fill=\"none\"/>\n",
              "    <path d=\"M18.56 5.44l.94 2.06.94-2.06 2.06-.94-2.06-.94-.94-2.06-.94 2.06-2.06.94zm-11 1L8.5 8.5l.94-2.06 2.06-.94-2.06-.94L8.5 2.5l-.94 2.06-2.06.94zm10 10l.94 2.06.94-2.06 2.06-.94-2.06-.94-.94-2.06-.94 2.06-2.06.94z\"/><path d=\"M17.41 7.96l-1.37-1.37c-.4-.4-.92-.59-1.43-.59-.52 0-1.04.2-1.43.59L10.3 9.45l-7.72 7.72c-.78.78-.78 2.05 0 2.83L4 21.41c.39.39.9.59 1.41.59.51 0 1.02-.2 1.41-.59l7.78-7.78 2.81-2.81c.8-.78.8-2.07 0-2.86zM5.41 20L4 18.59l7.72-7.72 1.47 1.35L5.41 20z\"/>\n",
              "  </svg>\n",
              "      </button>\n",
              "      \n",
              "  <style>\n",
              "    .colab-df-container {\n",
              "      display:flex;\n",
              "      flex-wrap:wrap;\n",
              "      gap: 12px;\n",
              "    }\n",
              "\n",
              "    .colab-df-convert {\n",
              "      background-color: #E8F0FE;\n",
              "      border: none;\n",
              "      border-radius: 50%;\n",
              "      cursor: pointer;\n",
              "      display: none;\n",
              "      fill: #1967D2;\n",
              "      height: 32px;\n",
              "      padding: 0 0 0 0;\n",
              "      width: 32px;\n",
              "    }\n",
              "\n",
              "    .colab-df-convert:hover {\n",
              "      background-color: #E2EBFA;\n",
              "      box-shadow: 0px 1px 2px rgba(60, 64, 67, 0.3), 0px 1px 3px 1px rgba(60, 64, 67, 0.15);\n",
              "      fill: #174EA6;\n",
              "    }\n",
              "\n",
              "    [theme=dark] .colab-df-convert {\n",
              "      background-color: #3B4455;\n",
              "      fill: #D2E3FC;\n",
              "    }\n",
              "\n",
              "    [theme=dark] .colab-df-convert:hover {\n",
              "      background-color: #434B5C;\n",
              "      box-shadow: 0px 1px 3px 1px rgba(0, 0, 0, 0.15);\n",
              "      filter: drop-shadow(0px 1px 2px rgba(0, 0, 0, 0.3));\n",
              "      fill: #FFFFFF;\n",
              "    }\n",
              "  </style>\n",
              "\n",
              "      <script>\n",
              "        const buttonEl =\n",
              "          document.querySelector('#df-f05c516b-46e8-4577-87e7-8473ff7f5564 button.colab-df-convert');\n",
              "        buttonEl.style.display =\n",
              "          google.colab.kernel.accessAllowed ? 'block' : 'none';\n",
              "\n",
              "        async function convertToInteractive(key) {\n",
              "          const element = document.querySelector('#df-f05c516b-46e8-4577-87e7-8473ff7f5564');\n",
              "          const dataTable =\n",
              "            await google.colab.kernel.invokeFunction('convertToInteractive',\n",
              "                                                     [key], {});\n",
              "          if (!dataTable) return;\n",
              "\n",
              "          const docLinkHtml = 'Like what you see? Visit the ' +\n",
              "            '<a target=\"_blank\" href=https://colab.research.google.com/notebooks/data_table.ipynb>data table notebook</a>'\n",
              "            + ' to learn more about interactive tables.';\n",
              "          element.innerHTML = '';\n",
              "          dataTable['output_type'] = 'display_data';\n",
              "          await google.colab.output.renderOutput(dataTable, element);\n",
              "          const docLink = document.createElement('div');\n",
              "          docLink.innerHTML = docLinkHtml;\n",
              "          element.appendChild(docLink);\n",
              "        }\n",
              "      </script>\n",
              "    </div>\n",
              "  </div>\n",
              "  "
            ]
          },
          "metadata": {},
          "execution_count": 47
        }
      ]
    },
    {
      "cell_type": "code",
      "source": [
        "#Cantidad de registros\n",
        "df.shape"
      ],
      "metadata": {
        "colab": {
          "base_uri": "https://localhost:8080/"
        },
        "id": "qV7VNZX7Hfdr",
        "outputId": "5b77b943-0fc2-4681-fb42-c08c2eda29ee"
      },
      "execution_count": 48,
      "outputs": [
        {
          "output_type": "execute_result",
          "data": {
            "text/plain": [
              "(295405, 36)"
            ]
          },
          "metadata": {},
          "execution_count": 48
        }
      ]
    },
    {
      "cell_type": "markdown",
      "source": [
        "Veamos información rápida acerca de las columnas"
      ],
      "metadata": {
        "id": "NqA4sJhnrLGh"
      }
    },
    {
      "cell_type": "code",
      "source": [
        "df.info()"
      ],
      "metadata": {
        "colab": {
          "base_uri": "https://localhost:8080/"
        },
        "id": "EzlffwEoHjM6",
        "outputId": "b963ca64-418e-4e18-f883-580c7ec3f003"
      },
      "execution_count": 49,
      "outputs": [
        {
          "output_type": "stream",
          "name": "stdout",
          "text": [
            "<class 'pandas.core.frame.DataFrame'>\n",
            "RangeIndex: 295405 entries, 0 to 295404\n",
            "Data columns (total 36 columns):\n",
            " #   Column               Non-Null Count   Dtype                                 \n",
            "---  ------               --------------   -----                                 \n",
            " 0   fecha_hecho          295405 non-null  datetime64[ns, pytz.FixedOffset(-300)]\n",
            " 1   cantidad             295405 non-null  float64                               \n",
            " 2   latitud              281174 non-null  float64                               \n",
            " 3   longitud             281174 non-null  float64                               \n",
            " 4   sexo                 295405 non-null  object                                \n",
            " 5   edad                 295405 non-null  int64                                 \n",
            " 6   estado_civil         295405 non-null  object                                \n",
            " 7   grupo_actor          295405 non-null  object                                \n",
            " 8   actividad_delictiva  295405 non-null  object                                \n",
            " 9   parentesco           295405 non-null  object                                \n",
            " 10  ocupacion            295405 non-null  object                                \n",
            " 11  discapacidad         295405 non-null  object                                \n",
            " 12  grupo_especial       295405 non-null  object                                \n",
            " 13  medio_transporte     295405 non-null  object                                \n",
            " 14  nivel_academico      295405 non-null  object                                \n",
            " 15  testigo              295405 non-null  object                                \n",
            " 16  conducta             295405 non-null  object                                \n",
            " 17  modalidad            295405 non-null  object                                \n",
            " 18  caracterizacion      295405 non-null  object                                \n",
            " 19  conducta_especial    295405 non-null  object                                \n",
            " 20  arma_medio           295405 non-null  object                                \n",
            " 21  articulo_penal       295405 non-null  object                                \n",
            " 22  categoria_penal      295405 non-null  object                                \n",
            " 23  nombre_barrio        295405 non-null  object                                \n",
            " 24  codigo_barrio        295405 non-null  object                                \n",
            " 25  codigo_comuna        295405 non-null  object                                \n",
            " 26  lugar                295405 non-null  object                                \n",
            " 27  sede_receptora       295405 non-null  object                                \n",
            " 28  bien                 295405 non-null  object                                \n",
            " 29  categoria_bien       295405 non-null  object                                \n",
            " 30  grupo_bien           295405 non-null  object                                \n",
            " 31  modelo               295405 non-null  int64                                 \n",
            " 32  color                295405 non-null  object                                \n",
            " 33  permiso              295405 non-null  object                                \n",
            " 34  unidad_medida        295405 non-null  object                                \n",
            " 35  fecha_ingestion      295405 non-null  object                                \n",
            "dtypes: datetime64[ns, pytz.FixedOffset(-300)](1), float64(3), int64(2), object(30)\n",
            "memory usage: 81.1+ MB\n"
          ]
        }
      ]
    },
    {
      "cell_type": "code",
      "source": [
        "df.fecha_hecho.dt.year.unique()"
      ],
      "metadata": {
        "colab": {
          "base_uri": "https://localhost:8080/"
        },
        "id": "IyuieKuBIYFE",
        "outputId": "47229e50-e5ca-4992-9acc-831e6fa6b22b"
      },
      "execution_count": 50,
      "outputs": [
        {
          "output_type": "execute_result",
          "data": {
            "text/plain": [
              "array([2017, 2003, 2004, 2005, 2006, 2007, 2008, 2009, 2010, 2011, 2012,\n",
              "       2013, 2014, 2015, 2016, 2020, 2019, 2018, 2021, 2022])"
            ]
          },
          "metadata": {},
          "execution_count": 50
        }
      ]
    },
    {
      "cell_type": "markdown",
      "source": [
        "Nuestro análisis se centrará entre 2018-2022, por lo que podemos realizar un filtro por año"
      ],
      "metadata": {
        "id": "WBlSzsvYJFpM"
      }
    },
    {
      "cell_type": "code",
      "source": [
        "df['year'] = df.fecha_hecho.dt.year"
      ],
      "metadata": {
        "id": "FbCVctAHI4IL"
      },
      "execution_count": 51,
      "outputs": []
    },
    {
      "cell_type": "markdown",
      "source": [
        "Antes, veamos como se distribuye por años dichos casos"
      ],
      "metadata": {
        "id": "9UeY4V6irzSw"
      }
    },
    {
      "cell_type": "code",
      "source": [
        "df.year.value_counts().sort_index(ascending=True).plot(kind='bar')\n",
        "plt.xlabel(\"Año\", labelpad=14)\n",
        "plt.ylabel(\"Casos\", labelpad=14);\n"
      ],
      "metadata": {
        "colab": {
          "base_uri": "https://localhost:8080/",
          "height": 485
        },
        "id": "lv50D4irr102",
        "outputId": "5166a3c9-1d9d-41a3-cbbf-8a0bcae20d23"
      },
      "execution_count": 25,
      "outputs": [
        {
          "output_type": "display_data",
          "data": {
            "text/plain": [
              "<Figure size 640x480 with 1 Axes>"
            ],
            "image/png": "[encoded data removed]"
          },
          "metadata": {}
        }
      ]
    },
    {
      "cell_type": "markdown",
      "source": [
        "Luego de aplicar el filtro de los años a trabajar, encontramos la siguiente cantidad de registros"
      ],
      "metadata": {
        "id": "deW9dI5vxIX9"
      }
    },
    {
      "cell_type": "code",
      "source": [
        "df = df[df.year.isin([2018,2019,2020,2021,2022])].reset_index(drop=True)"
      ],
      "metadata": {
        "id": "E9Z_LXmjIqQC"
      },
      "execution_count": 52,
      "outputs": []
    },
    {
      "cell_type": "code",
      "source": [
        "df.shape"
      ],
      "metadata": {
        "colab": {
          "base_uri": "https://localhost:8080/"
        },
        "id": "peMbafCFJeGx",
        "outputId": "5b5f729f-86f2-4f11-9b19-c5decfd836b7"
      },
      "execution_count": 53,
      "outputs": [
        {
          "output_type": "execute_result",
          "data": {
            "text/plain": [
              "(181204, 37)"
            ]
          },
          "metadata": {},
          "execution_count": 53
        }
      ]
    },
    {
      "cell_type": "markdown",
      "source": [
        "Hemos depurado en **114201** el número de registros. Veamos un poco acerca de las columnas de interes"
      ],
      "metadata": {
        "id": "7QuS9RVqJvHQ"
      }
    },
    {
      "cell_type": "code",
      "source": [
        "df.drop(columns=['year'], inplace=True)"
      ],
      "metadata": {
        "id": "v_qfRhxnKPh5"
      },
      "execution_count": 54,
      "outputs": []
    },
    {
      "cell_type": "markdown",
      "source": [
        "En cuanto a la modalidad de los hurtos, vemos como de forma partícular cuatro categorías se llevan el grueso del número de casos, por lo que es importante enfocar acciones encaminadas a estas modalidades."
      ],
      "metadata": {
        "id": "sSx8MOrVxrbi"
      }
    },
    {
      "cell_type": "code",
      "source": [
        "df.modalidad.value_counts().plot(kind='barh')\n",
        "plt.xlabel(\"Modalidad\", labelpad=14)\n",
        "plt.ylabel(\"Casos\", labelpad=14)\n",
        "plt.legend();\n"
      ],
      "metadata": {
        "colab": {
          "base_uri": "https://localhost:8080/",
          "height": 463
        },
        "id": "1GvL46KKxZOP",
        "outputId": "61869120-75e0-4f75-c8e7-e8dee8e452cd"
      },
      "execution_count": 41,
      "outputs": [
        {
          "output_type": "display_data",
          "data": {
            "text/plain": [
              "<Figure size 640x480 with 1 Axes>"
            ],
            "image/png": "[encoded data removed]"
          },
          "metadata": {}
        }
      ]
    },
    {
      "cell_type": "markdown",
      "source": [
        "Si nos fijamos, las anteriores modalidades están en línea con las armas o medios para cometer dichos delitos, esto se evidencia a continuación."
      ],
      "metadata": {
        "id": "x2BVEf6D2f91"
      }
    },
    {
      "cell_type": "code",
      "source": [
        "df.arma_medio.value_counts().plot(kind='barh')\n",
        "plt.xlabel(\"Arma-medio\", labelpad=14)\n",
        "plt.ylabel(\"Casos\", labelpad=14)\n",
        "plt.legend();\n"
      ],
      "metadata": {
        "colab": {
          "base_uri": "https://localhost:8080/",
          "height": 463
        },
        "id": "vxuUShL8yFVt",
        "outputId": "23d08c17-1793-4abb-a65c-a3663936239c"
      },
      "execution_count": 42,
      "outputs": [
        {
          "output_type": "display_data",
          "data": {
            "text/plain": [
              "<Figure size 640x480 with 1 Axes>"
            ],
            "image/png": "[encoded data removed]"
          },
          "metadata": {}
        }
      ]
    },
    {
      "cell_type": "code",
      "source": [
        "df.columns"
      ],
      "metadata": {
        "colab": {
          "base_uri": "https://localhost:8080/"
        },
        "id": "51H6WM9GJnZ6",
        "outputId": "729deb7c-a002-4fb3-d0ad-f6d0c53859ab"
      },
      "execution_count": null,
      "outputs": [
        {
          "output_type": "execute_result",
          "data": {
            "text/plain": [
              "Index(['fecha_hecho', 'cantidad', 'latitud', 'longitud', 'sexo', 'edad',\n",
              "       'estado_civil', 'grupo_actor', 'actividad_delictiva', 'parentesco',\n",
              "       'ocupacion', 'discapacidad', 'grupo_especial', 'medio_transporte',\n",
              "       'nivel_academico', 'testigo', 'conducta', 'modalidad',\n",
              "       'caracterizacion', 'conducta_especial', 'arma_medio', 'articulo_penal',\n",
              "       'categoria_penal', 'nombre_barrio', 'codigo_barrio', 'codigo_comuna',\n",
              "       'lugar', 'sede_receptora', 'bien', 'categoria_bien', 'grupo_bien',\n",
              "       'modelo', 'color', 'permiso', 'unidad_medida', 'fecha_ingestion'],\n",
              "      dtype='object')"
            ]
          },
          "metadata": {},
          "execution_count": 11
        }
      ]
    },
    {
      "cell_type": "markdown",
      "source": [
        "####**fecha_hecho**"
      ],
      "metadata": {
        "id": "u7suEN1XLLEu"
      }
    },
    {
      "cell_type": "code",
      "source": [
        "sum(df.fecha_hecho.isnull())"
      ],
      "metadata": {
        "colab": {
          "base_uri": "https://localhost:8080/"
        },
        "id": "UaEcSS-wLPwa",
        "outputId": "3f645177-e9f7-49ee-efdc-da4f4767809d"
      },
      "execution_count": null,
      "outputs": [
        {
          "output_type": "execute_result",
          "data": {
            "text/plain": [
              "0"
            ]
          },
          "metadata": {},
          "execution_count": 12
        }
      ]
    },
    {
      "cell_type": "markdown",
      "source": [
        "####**cantidad**"
      ],
      "metadata": {
        "id": "5qK2RKWlLuKa"
      }
    },
    {
      "cell_type": "code",
      "source": [
        "df.cantidad"
      ],
      "metadata": {
        "colab": {
          "base_uri": "https://localhost:8080/"
        },
        "id": "9WZs0AYFLxRZ",
        "outputId": "b8189f92-86e0-44d9-c0ea-91318ad340d8"
      },
      "execution_count": null,
      "outputs": [
        {
          "output_type": "execute_result",
          "data": {
            "text/plain": [
              "0         1.0\n",
              "1         1.0\n",
              "2         1.0\n",
              "3         1.0\n",
              "4         1.0\n",
              "         ... \n",
              "181199    1.0\n",
              "181200    1.0\n",
              "181201    1.0\n",
              "181202    1.0\n",
              "181203    1.0\n",
              "Name: cantidad, Length: 181204, dtype: float64"
            ]
          },
          "metadata": {},
          "execution_count": 13
        }
      ]
    },
    {
      "cell_type": "code",
      "source": [
        "df.cantidad.unique()"
      ],
      "metadata": {
        "colab": {
          "base_uri": "https://localhost:8080/"
        },
        "id": "Mq0EdCMwLz9O",
        "outputId": "36e73061-fe73-44bd-c35d-987d4722363b"
      },
      "execution_count": null,
      "outputs": [
        {
          "output_type": "execute_result",
          "data": {
            "text/plain": [
              "array([1.])"
            ]
          },
          "metadata": {},
          "execution_count": 14
        }
      ]
    },
    {
      "cell_type": "markdown",
      "source": [
        "Esta columna hace referencia a la cantidad de elementos hurtados, por lo que al parecer se tabulan los elementos de manera individual. Se debe determinar si hay alguna forma de aíslar los hechos o si en realidad es una mala ingesta de la característica. De momento esta columna se quita pues no aportaría nada en el análisis al tener un valor constante."
      ],
      "metadata": {
        "id": "wI2gg-FuL3ZM"
      }
    },
    {
      "cell_type": "markdown",
      "source": [
        "####**latitud**"
      ],
      "metadata": {
        "id": "CDs0rOKvMVsf"
      }
    },
    {
      "cell_type": "code",
      "source": [
        "df.latitud"
      ],
      "metadata": {
        "colab": {
          "base_uri": "https://localhost:8080/"
        },
        "id": "KPQeOKU7MX48",
        "outputId": "31ac0892-61a4-440f-c249-5c16adb27337"
      },
      "execution_count": null,
      "outputs": [
        {
          "output_type": "execute_result",
          "data": {
            "text/plain": [
              "0         6.254597\n",
              "1         6.233387\n",
              "2         6.235646\n",
              "3         6.254530\n",
              "4         6.254163\n",
              "            ...   \n",
              "181199    6.251218\n",
              "181200    6.249076\n",
              "181201    6.289639\n",
              "181202    6.264074\n",
              "181203    6.242475\n",
              "Name: latitud, Length: 181204, dtype: float64"
            ]
          },
          "metadata": {},
          "execution_count": 15
        }
      ]
    },
    {
      "cell_type": "code",
      "source": [
        "sum(df.latitud.isnull())"
      ],
      "metadata": {
        "colab": {
          "base_uri": "https://localhost:8080/"
        },
        "id": "kxnBDSzxMa3-",
        "outputId": "497bbbc7-5857-452f-ef7a-7765ab9271e3"
      },
      "execution_count": null,
      "outputs": [
        {
          "output_type": "execute_result",
          "data": {
            "text/plain": [
              "0"
            ]
          },
          "metadata": {},
          "execution_count": 16
        }
      ]
    },
    {
      "cell_type": "markdown",
      "source": [
        "Al parecer no tenemos valores nulos. Veamos si tenemos registros fuera de lo común"
      ],
      "metadata": {
        "id": "nv-wgQPtMfV7"
      }
    },
    {
      "cell_type": "code",
      "source": [
        "df[(df['latitud'] >6.38) |(df['latitud'] <6.15)]"
      ],
      "metadata": {
        "colab": {
          "base_uri": "https://localhost:8080/",
          "height": 1000
        },
        "id": "Zb8b_agoMoPX",
        "outputId": "defe60ae-2cfd-47ce-8fd8-bde5dcfde7d2"
      },
      "execution_count": null,
      "outputs": [
        {
          "output_type": "execute_result",
          "data": {
            "text/plain": [
              "                     fecha_hecho  cantidad   latitud   longitud    sexo  edad  \\\n",
              "61893  2020-08-20 13:30:00-05:00       1.0  6.144643 -75.606046   Mujer    70   \n",
              "62577  2020-08-29 06:00:00-05:00       1.0  6.119620 -75.634554  Hombre    34   \n",
              "68373  2020-11-11 10:30:00-05:00       1.0  6.135533 -75.617717  Hombre    48   \n",
              "83499  2018-11-28 22:00:00-05:00       1.0  4.598800 -74.074140   Mujer    37   \n",
              "156010 2022-07-22 13:45:00-05:00       1.0  0.000000   0.000000   Mujer    23   \n",
              "158562 2022-08-16 13:30:00-05:00       1.0  5.605000  -0.000679  Hombre    63   \n",
              "164727 2022-10-11 09:00:00-05:00       1.0  5.705000  -0.000679   Mujer    50   \n",
              "165506 2022-10-18 20:08:00-05:00       1.0  0.000000   0.000000  Hombre    23   \n",
              "165924 2022-10-22 14:30:00-05:00       1.0  5.705000  -0.000679  Hombre    40   \n",
              "166813 2022-10-29 21:00:00-05:00       1.0  5.605000  -0.000679  Hombre    47   \n",
              "167295 2022-11-02 13:00:00-05:00       1.0  5.605000  -0.000679  Hombre    -1   \n",
              "167334 2022-11-02 09:03:00-05:00       1.0  5.605000  -0.000679   Mujer    14   \n",
              "167797 2022-11-06 23:00:00-05:00       1.0  5.605000  -0.000679  Hombre    39   \n",
              "168241 2022-11-11 22:00:00-05:00       1.0  5.605000  -0.000679  Hombre    43   \n",
              "168645 2022-11-16 16:30:00-05:00       1.0  6.092238 -75.638193  Hombre    45   \n",
              "169014 2022-11-18 09:56:00-05:00       1.0  0.000000   0.000000  Hombre    -1   \n",
              "169462 2022-11-21 07:00:00-05:00       1.0  0.000000   0.000000   Mujer    38   \n",
              "170601 2022-11-30 22:00:00-05:00       1.0  5.605000  -0.000679   Mujer    37   \n",
              "\n",
              "                  estado_civil grupo_actor actividad_delictiva parentesco  \\\n",
              "61893                Casado(a)    Sin dato            Sin dato   Sin dato   \n",
              "62577               Soltero(a)    Sin dato            Sin dato   Sin dato   \n",
              "68373                Casado(a)    Sin dato            Sin dato   Sin dato   \n",
              "83499               Soltero(a)    Sin dato            Sin dato   Sin dato   \n",
              "156010              Soltero(a)    Sin dato            Sin dato   Sin dato   \n",
              "158562               Casado(a)    Sin dato            Sin dato   Sin dato   \n",
              "164727              Soltero(a)    Sin dato            Sin dato   Sin dato   \n",
              "165506              Soltero(a)    Sin dato            Sin dato   Sin dato   \n",
              "165924              Soltero(a)    Sin dato            Sin dato   Sin dato   \n",
              "166813              Soltero(a)    Sin dato            Sin dato   Sin dato   \n",
              "167295              Soltero(a)    Sin dato            Sin dato   Sin dato   \n",
              "167334              Soltero(a)    Sin dato            Sin dato   Sin dato   \n",
              "167797  Unión marital de hecho    Sin dato            Sin dato   Sin dato   \n",
              "168241              Soltero(a)    Sin dato            Sin dato   Sin dato   \n",
              "168645               Casado(a)    Sin dato            Sin dato   Sin dato   \n",
              "169014              Soltero(a)    Sin dato            Sin dato   Sin dato   \n",
              "169462              Soltero(a)    Sin dato            Sin dato   Sin dato   \n",
              "170601               Casado(a)    Sin dato            Sin dato   Sin dato   \n",
              "\n",
              "        ...                       lugar sede_receptora                 bien  \\\n",
              "61893   ...  Hospital o centro de salud       Sabaneta              Celular   \n",
              "62577   ...       Almacén tienda y otro    La Estrella              Celular   \n",
              "68373   ...           Fábrica o empresa       Sabaneta  Sin dato documentos   \n",
              "83499   ...                 Vía pública       Laureles                 Peso   \n",
              "156010  ...                 Vía pública       Laureles                 Peso   \n",
              "158562  ...                 Vía pública       Laureles                 Peso   \n",
              "164727  ...                 Vía pública       Laureles                 Peso   \n",
              "165506  ...                 Vía pública       Laureles                 Peso   \n",
              "165924  ...                 Vía pública       Laureles                 Peso   \n",
              "166813  ...                 Vía pública       Laureles                 Peso   \n",
              "167295  ...       Hotel, motel y hostal       Laureles                 Peso   \n",
              "167334  ...                 Vía pública       Laureles                 Peso   \n",
              "167797  ...                 Vía pública       Laureles                 Peso   \n",
              "168241  ...                 Vía pública       Laureles                 Peso   \n",
              "168645  ...             Paradero de bus         Caldas              Celular   \n",
              "169014  ...                 Vía pública       Laureles                 Peso   \n",
              "169462  ...                 Vía pública       Laureles                 Peso   \n",
              "170601  ...     Bus de servicio público       Laureles                 Peso   \n",
              "\n",
              "                                         categoria_bien grupo_bien modelo  \\\n",
              "61893                                        Tecnología  Mercancía     -1   \n",
              "62577                                        Tecnología  Mercancía     -1   \n",
              "68373                                        Documentos  Mercancía     -1   \n",
              "83499   Dinero, joyas, piedras preciosas y título valor  Mercancía     -1   \n",
              "156010  Dinero, joyas, piedras preciosas y título valor  Mercancía     -1   \n",
              "158562  Dinero, joyas, piedras preciosas y título valor  Mercancía     -1   \n",
              "164727  Dinero, joyas, piedras preciosas y título valor  Mercancía     -1   \n",
              "165506  Dinero, joyas, piedras preciosas y título valor  Mercancía     -1   \n",
              "165924  Dinero, joyas, piedras preciosas y título valor  Mercancía     -1   \n",
              "166813  Dinero, joyas, piedras preciosas y título valor  Mercancía     -1   \n",
              "167295  Dinero, joyas, piedras preciosas y título valor  Mercancía     -1   \n",
              "167334  Dinero, joyas, piedras preciosas y título valor  Mercancía     -1   \n",
              "167797  Dinero, joyas, piedras preciosas y título valor  Mercancía     -1   \n",
              "168241  Dinero, joyas, piedras preciosas y título valor  Mercancía     -1   \n",
              "168645                                       Tecnología  Mercancía     -1   \n",
              "169014  Dinero, joyas, piedras preciosas y título valor  Mercancía     -1   \n",
              "169462  Dinero, joyas, piedras preciosas y título valor  Mercancía     -1   \n",
              "170601  Dinero, joyas, piedras preciosas y título valor  Mercancía     -1   \n",
              "\n",
              "           color   permiso unidad_medida                fecha_ingestion  \n",
              "61893        Oro  Sin dato      Sin dato  2022-12-30T13:40:48.000-05:00  \n",
              "62577     Blanco  Sin dato      Sin dato  2022-12-30T13:40:48.000-05:00  \n",
              "68373   Sin dato  Sin dato      Sin dato  2022-12-30T13:40:48.000-05:00  \n",
              "83499   Sin dato  Sin dato      Sin dato  2022-12-30T13:40:48.000-05:00  \n",
              "156010  Sin dato  Sin dato      Sin dato  2022-12-30T13:40:48.000-05:00  \n",
              "158562  Sin dato  Sin dato      Sin dato  2022-12-30T13:40:48.000-05:00  \n",
              "164727  Sin dato  Sin dato      Sin dato  2022-12-30T13:40:48.000-05:00  \n",
              "165506  Sin dato  Sin dato      Sin dato  2022-12-30T13:40:48.000-05:00  \n",
              "165924  Sin dato  Sin dato      Sin dato  2022-12-30T13:40:48.000-05:00  \n",
              "166813  Sin dato  Sin dato      Sin dato  2022-12-30T13:40:48.000-05:00  \n",
              "167295  Sin dato  Sin dato      Sin dato  2022-12-30T13:40:48.000-05:00  \n",
              "167334  Sin dato  Sin dato      Sin dato  2022-12-30T13:40:48.000-05:00  \n",
              "167797  Sin dato  Sin dato      Sin dato  2022-12-30T13:40:48.000-05:00  \n",
              "168241  Sin dato  Sin dato      Sin dato  2022-12-30T13:40:48.000-05:00  \n",
              "168645      Azul  Sin dato      Sin dato  2022-12-30T13:40:48.000-05:00  \n",
              "169014  Sin dato  Sin dato      Sin dato  2022-12-30T13:40:48.000-05:00  \n",
              "169462  Sin dato  Sin dato      Sin dato  2022-12-30T13:40:48.000-05:00  \n",
              "170601  Sin dato  Sin dato      Sin dato  2022-12-30T13:40:48.000-05:00  \n",
              "\n",
              "[18 rows x 36 columns]"
            ],
            "text/html": [
              "\n",
              "  <div id=\"df-af00ff71-7ff8-413f-8f3d-3c6fa4d6c121\">\n",
              "    <div class=\"colab-df-container\">\n",
              "      <div>\n",
              "<style scoped>\n",
              "    .dataframe tbody tr th:only-of-type {\n",
              "        vertical-align: middle;\n",
              "    }\n",
              "\n",
              "    .dataframe tbody tr th {\n",
              "        vertical-align: top;\n",
              "    }\n",
              "\n",
              "    .dataframe thead th {\n",
              "        text-align: right;\n",
              "    }\n",
              "</style>\n",
              "<table border=\"1\" class=\"dataframe\">\n",
              "  <thead>\n",
              "    <tr style=\"text-align: right;\">\n",
              "      <th></th>\n",
              "      <th>fecha_hecho</th>\n",
              "      <th>cantidad</th>\n",
              "      <th>latitud</th>\n",
              "      <th>longitud</th>\n",
              "      <th>sexo</th>\n",
              "      <th>edad</th>\n",
              "      <th>estado_civil</th>\n",
              "      <th>grupo_actor</th>\n",
              "      <th>actividad_delictiva</th>\n",
              "      <th>parentesco</th>\n",
              "      <th>...</th>\n",
              "      <th>lugar</th>\n",
              "      <th>sede_receptora</th>\n",
              "      <th>bien</th>\n",
              "      <th>categoria_bien</th>\n",
              "      <th>grupo_bien</th>\n",
              "      <th>modelo</th>\n",
              "      <th>color</th>\n",
              "      <th>permiso</th>\n",
              "      <th>unidad_medida</th>\n",
              "      <th>fecha_ingestion</th>\n",
              "    </tr>\n",
              "  </thead>\n",
              "  <tbody>\n",
              "    <tr>\n",
              "      <th>61893</th>\n",
              "      <td>2020-08-20 13:30:00-05:00</td>\n",
              "      <td>1.0</td>\n",
              "      <td>6.144643</td>\n",
              "      <td>-75.606046</td>\n",
              "      <td>Mujer</td>\n",
              "      <td>70</td>\n",
              "      <td>Casado(a)</td>\n",
              "      <td>Sin dato</td>\n",
              "      <td>Sin dato</td>\n",
              "      <td>Sin dato</td>\n",
              "      <td>...</td>\n",
              "      <td>Hospital o centro de salud</td>\n",
              "      <td>Sabaneta</td>\n",
              "      <td>Celular</td>\n",
              "      <td>Tecnología</td>\n",
              "      <td>Mercancía</td>\n",
              "      <td>-1</td>\n",
              "      <td>Oro</td>\n",
              "      <td>Sin dato</td>\n",
              "      <td>Sin dato</td>\n",
              "      <td>2022-12-30T13:40:48.000-05:00</td>\n",
              "    </tr>\n",
              "    <tr>\n",
              "      <th>62577</th>\n",
              "      <td>2020-08-29 06:00:00-05:00</td>\n",
              "      <td>1.0</td>\n",
              "      <td>6.119620</td>\n",
              "      <td>-75.634554</td>\n",
              "      <td>Hombre</td>\n",
              "      <td>34</td>\n",
              "      <td>Soltero(a)</td>\n",
              "      <td>Sin dato</td>\n",
              "      <td>Sin dato</td>\n",
              "      <td>Sin dato</td>\n",
              "      <td>...</td>\n",
              "      <td>Almacén tienda y otro</td>\n",
              "      <td>La Estrella</td>\n",
              "      <td>Celular</td>\n",
              "      <td>Tecnología</td>\n",
              "      <td>Mercancía</td>\n",
              "      <td>-1</td>\n",
              "      <td>Blanco</td>\n",
              "      <td>Sin dato</td>\n",
              "      <td>Sin dato</td>\n",
              "      <td>2022-12-30T13:40:48.000-05:00</td>\n",
              "    </tr>\n",
              "    <tr>\n",
              "      <th>68373</th>\n",
              "      <td>2020-11-11 10:30:00-05:00</td>\n",
              "      <td>1.0</td>\n",
              "      <td>6.135533</td>\n",
              "      <td>-75.617717</td>\n",
              "      <td>Hombre</td>\n",
              "      <td>48</td>\n",
              "      <td>Casado(a)</td>\n",
              "      <td>Sin dato</td>\n",
              "      <td>Sin dato</td>\n",
              "      <td>Sin dato</td>\n",
              "      <td>...</td>\n",
              "      <td>Fábrica o empresa</td>\n",
              "      <td>Sabaneta</td>\n",
              "      <td>Sin dato documentos</td>\n",
              "      <td>Documentos</td>\n",
              "      <td>Mercancía</td>\n",
              "      <td>-1</td>\n",
              "      <td>Sin dato</td>\n",
              "      <td>Sin dato</td>\n",
              "      <td>Sin dato</td>\n",
              "      <td>2022-12-30T13:40:48.000-05:00</td>\n",
              "    </tr>\n",
              "    <tr>\n",
              "      <th>83499</th>\n",
              "      <td>2018-11-28 22:00:00-05:00</td>\n",
              "      <td>1.0</td>\n",
              "      <td>4.598800</td>\n",
              "      <td>-74.074140</td>\n",
              "      <td>Mujer</td>\n",
              "      <td>37</td>\n",
              "      <td>Soltero(a)</td>\n",
              "      <td>Sin dato</td>\n",
              "      <td>Sin dato</td>\n",
              "      <td>Sin dato</td>\n",
              "      <td>...</td>\n",
              "      <td>Vía pública</td>\n",
              "      <td>Laureles</td>\n",
              "      <td>Peso</td>\n",
              "      <td>Dinero, joyas, piedras preciosas y título valor</td>\n",
              "      <td>Mercancía</td>\n",
              "      <td>-1</td>\n",
              "      <td>Sin dato</td>\n",
              "      <td>Sin dato</td>\n",
              "      <td>Sin dato</td>\n",
              "      <td>2022-12-30T13:40:48.000-05:00</td>\n",
              "    </tr>\n",
              "    <tr>\n",
              "      <th>156010</th>\n",
              "      <td>2022-07-22 13:45:00-05:00</td>\n",
              "      <td>1.0</td>\n",
              "      <td>0.000000</td>\n",
              "      <td>0.000000</td>\n",
              "      <td>Mujer</td>\n",
              "      <td>23</td>\n",
              "      <td>Soltero(a)</td>\n",
              "      <td>Sin dato</td>\n",
              "      <td>Sin dato</td>\n",
              "      <td>Sin dato</td>\n",
              "      <td>...</td>\n",
              "      <td>Vía pública</td>\n",
              "      <td>Laureles</td>\n",
              "      <td>Peso</td>\n",
              "      <td>Dinero, joyas, piedras preciosas y título valor</td>\n",
              "      <td>Mercancía</td>\n",
              "      <td>-1</td>\n",
              "      <td>Sin dato</td>\n",
              "      <td>Sin dato</td>\n",
              "      <td>Sin dato</td>\n",
              "      <td>2022-12-30T13:40:48.000-05:00</td>\n",
              "    </tr>\n",
              "    <tr>\n",
              "      <th>158562</th>\n",
              "      <td>2022-08-16 13:30:00-05:00</td>\n",
              "      <td>1.0</td>\n",
              "      <td>5.605000</td>\n",
              "      <td>-0.000679</td>\n",
              "      <td>Hombre</td>\n",
              "      <td>63</td>\n",
              "      <td>Casado(a)</td>\n",
              "      <td>Sin dato</td>\n",
              "      <td>Sin dato</td>\n",
              "      <td>Sin dato</td>\n",
              "      <td>...</td>\n",
              "      <td>Vía pública</td>\n",
              "      <td>Laureles</td>\n",
              "      <td>Peso</td>\n",
              "      <td>Dinero, joyas, piedras preciosas y título valor</td>\n",
              "      <td>Mercancía</td>\n",
              "      <td>-1</td>\n",
              "      <td>Sin dato</td>\n",
              "      <td>Sin dato</td>\n",
              "      <td>Sin dato</td>\n",
              "      <td>2022-12-30T13:40:48.000-05:00</td>\n",
              "    </tr>\n",
              "    <tr>\n",
              "      <th>164727</th>\n",
              "      <td>2022-10-11 09:00:00-05:00</td>\n",
              "      <td>1.0</td>\n",
              "      <td>5.705000</td>\n",
              "      <td>-0.000679</td>\n",
              "      <td>Mujer</td>\n",
              "      <td>50</td>\n",
              "      <td>Soltero(a)</td>\n",
              "      <td>Sin dato</td>\n",
              "      <td>Sin dato</td>\n",
              "      <td>Sin dato</td>\n",
              "      <td>...</td>\n",
              "      <td>Vía pública</td>\n",
              "      <td>Laureles</td>\n",
              "      <td>Peso</td>\n",
              "      <td>Dinero, joyas, piedras preciosas y título valor</td>\n",
              "      <td>Mercancía</td>\n",
              "      <td>-1</td>\n",
              "      <td>Sin dato</td>\n",
              "      <td>Sin dato</td>\n",
              "      <td>Sin dato</td>\n",
              "      <td>2022-12-30T13:40:48.000-05:00</td>\n",
              "    </tr>\n",
              "    <tr>\n",
              "      <th>165506</th>\n",
              "      <td>2022-10-18 20:08:00-05:00</td>\n",
              "      <td>1.0</td>\n",
              "      <td>0.000000</td>\n",
              "      <td>0.000000</td>\n",
              "      <td>Hombre</td>\n",
              "      <td>23</td>\n",
              "      <td>Soltero(a)</td>\n",
              "      <td>Sin dato</td>\n",
              "      <td>Sin dato</td>\n",
              "      <td>Sin dato</td>\n",
              "      <td>...</td>\n",
              "      <td>Vía pública</td>\n",
              "      <td>Laureles</td>\n",
              "      <td>Peso</td>\n",
              "      <td>Dinero, joyas, piedras preciosas y título valor</td>\n",
              "      <td>Mercancía</td>\n",
              "      <td>-1</td>\n",
              "      <td>Sin dato</td>\n",
              "      <td>Sin dato</td>\n",
              "      <td>Sin dato</td>\n",
              "      <td>2022-12-30T13:40:48.000-05:00</td>\n",
              "    </tr>\n",
              "    <tr>\n",
              "      <th>165924</th>\n",
              "      <td>2022-10-22 14:30:00-05:00</td>\n",
              "      <td>1.0</td>\n",
              "      <td>5.705000</td>\n",
              "      <td>-0.000679</td>\n",
              "      <td>Hombre</td>\n",
              "      <td>40</td>\n",
              "      <td>Soltero(a)</td>\n",
              "      <td>Sin dato</td>\n",
              "      <td>Sin dato</td>\n",
              "      <td>Sin dato</td>\n",
              "      <td>...</td>\n",
              "      <td>Vía pública</td>\n",
              "      <td>Laureles</td>\n",
              "      <td>Peso</td>\n",
              "      <td>Dinero, joyas, piedras preciosas y título valor</td>\n",
              "      <td>Mercancía</td>\n",
              "      <td>-1</td>\n",
              "      <td>Sin dato</td>\n",
              "      <td>Sin dato</td>\n",
              "      <td>Sin dato</td>\n",
              "      <td>2022-12-30T13:40:48.000-05:00</td>\n",
              "    </tr>\n",
              "    <tr>\n",
              "      <th>166813</th>\n",
              "      <td>2022-10-29 21:00:00-05:00</td>\n",
              "      <td>1.0</td>\n",
              "      <td>5.605000</td>\n",
              "      <td>-0.000679</td>\n",
              "      <td>Hombre</td>\n",
              "      <td>47</td>\n",
              "      <td>Soltero(a)</td>\n",
              "      <td>Sin dato</td>\n",
              "      <td>Sin dato</td>\n",
              "      <td>Sin dato</td>\n",
              "      <td>...</td>\n",
              "      <td>Vía pública</td>\n",
              "      <td>Laureles</td>\n",
              "      <td>Peso</td>\n",
              "      <td>Dinero, joyas, piedras preciosas y título valor</td>\n",
              "      <td>Mercancía</td>\n",
              "      <td>-1</td>\n",
              "      <td>Sin dato</td>\n",
              "      <td>Sin dato</td>\n",
              "      <td>Sin dato</td>\n",
              "      <td>2022-12-30T13:40:48.000-05:00</td>\n",
              "    </tr>\n",
              "    <tr>\n",
              "      <th>167295</th>\n",
              "      <td>2022-11-02 13:00:00-05:00</td>\n",
              "      <td>1.0</td>\n",
              "      <td>5.605000</td>\n",
              "      <td>-0.000679</td>\n",
              "      <td>Hombre</td>\n",
              "      <td>-1</td>\n",
              "      <td>Soltero(a)</td>\n",
              "      <td>Sin dato</td>\n",
              "      <td>Sin dato</td>\n",
              "      <td>Sin dato</td>\n",
              "      <td>...</td>\n",
              "      <td>Hotel, motel y hostal</td>\n",
              "      <td>Laureles</td>\n",
              "      <td>Peso</td>\n",
              "      <td>Dinero, joyas, piedras preciosas y título valor</td>\n",
              "      <td>Mercancía</td>\n",
              "      <td>-1</td>\n",
              "      <td>Sin dato</td>\n",
              "      <td>Sin dato</td>\n",
              "      <td>Sin dato</td>\n",
              "      <td>2022-12-30T13:40:48.000-05:00</td>\n",
              "    </tr>\n",
              "    <tr>\n",
              "      <th>167334</th>\n",
              "      <td>2022-11-02 09:03:00-05:00</td>\n",
              "      <td>1.0</td>\n",
              "      <td>5.605000</td>\n",
              "      <td>-0.000679</td>\n",
              "      <td>Mujer</td>\n",
              "      <td>14</td>\n",
              "      <td>Soltero(a)</td>\n",
              "      <td>Sin dato</td>\n",
              "      <td>Sin dato</td>\n",
              "      <td>Sin dato</td>\n",
              "      <td>...</td>\n",
              "      <td>Vía pública</td>\n",
              "      <td>Laureles</td>\n",
              "      <td>Peso</td>\n",
              "      <td>Dinero, joyas, piedras preciosas y título valor</td>\n",
              "      <td>Mercancía</td>\n",
              "      <td>-1</td>\n",
              "      <td>Sin dato</td>\n",
              "      <td>Sin dato</td>\n",
              "      <td>Sin dato</td>\n",
              "      <td>2022-12-30T13:40:48.000-05:00</td>\n",
              "    </tr>\n",
              "    <tr>\n",
              "      <th>167797</th>\n",
              "      <td>2022-11-06 23:00:00-05:00</td>\n",
              "      <td>1.0</td>\n",
              "      <td>5.605000</td>\n",
              "      <td>-0.000679</td>\n",
              "      <td>Hombre</td>\n",
              "      <td>39</td>\n",
              "      <td>Unión marital de hecho</td>\n",
              "      <td>Sin dato</td>\n",
              "      <td>Sin dato</td>\n",
              "      <td>Sin dato</td>\n",
              "      <td>...</td>\n",
              "      <td>Vía pública</td>\n",
              "      <td>Laureles</td>\n",
              "      <td>Peso</td>\n",
              "      <td>Dinero, joyas, piedras preciosas y título valor</td>\n",
              "      <td>Mercancía</td>\n",
              "      <td>-1</td>\n",
              "      <td>Sin dato</td>\n",
              "      <td>Sin dato</td>\n",
              "      <td>Sin dato</td>\n",
              "      <td>2022-12-30T13:40:48.000-05:00</td>\n",
              "    </tr>\n",
              "    <tr>\n",
              "      <th>168241</th>\n",
              "      <td>2022-11-11 22:00:00-05:00</td>\n",
              "      <td>1.0</td>\n",
              "      <td>5.605000</td>\n",
              "      <td>-0.000679</td>\n",
              "      <td>Hombre</td>\n",
              "      <td>43</td>\n",
              "      <td>Soltero(a)</td>\n",
              "      <td>Sin dato</td>\n",
              "      <td>Sin dato</td>\n",
              "      <td>Sin dato</td>\n",
              "      <td>...</td>\n",
              "      <td>Vía pública</td>\n",
              "      <td>Laureles</td>\n",
              "      <td>Peso</td>\n",
              "      <td>Dinero, joyas, piedras preciosas y título valor</td>\n",
              "      <td>Mercancía</td>\n",
              "      <td>-1</td>\n",
              "      <td>Sin dato</td>\n",
              "      <td>Sin dato</td>\n",
              "      <td>Sin dato</td>\n",
              "      <td>2022-12-30T13:40:48.000-05:00</td>\n",
              "    </tr>\n",
              "    <tr>\n",
              "      <th>168645</th>\n",
              "      <td>2022-11-16 16:30:00-05:00</td>\n",
              "      <td>1.0</td>\n",
              "      <td>6.092238</td>\n",
              "      <td>-75.638193</td>\n",
              "      <td>Hombre</td>\n",
              "      <td>45</td>\n",
              "      <td>Casado(a)</td>\n",
              "      <td>Sin dato</td>\n",
              "      <td>Sin dato</td>\n",
              "      <td>Sin dato</td>\n",
              "      <td>...</td>\n",
              "      <td>Paradero de bus</td>\n",
              "      <td>Caldas</td>\n",
              "      <td>Celular</td>\n",
              "      <td>Tecnología</td>\n",
              "      <td>Mercancía</td>\n",
              "      <td>-1</td>\n",
              "      <td>Azul</td>\n",
              "      <td>Sin dato</td>\n",
              "      <td>Sin dato</td>\n",
              "      <td>2022-12-30T13:40:48.000-05:00</td>\n",
              "    </tr>\n",
              "    <tr>\n",
              "      <th>169014</th>\n",
              "      <td>2022-11-18 09:56:00-05:00</td>\n",
              "      <td>1.0</td>\n",
              "      <td>0.000000</td>\n",
              "      <td>0.000000</td>\n",
              "      <td>Hombre</td>\n",
              "      <td>-1</td>\n",
              "      <td>Soltero(a)</td>\n",
              "      <td>Sin dato</td>\n",
              "      <td>Sin dato</td>\n",
              "      <td>Sin dato</td>\n",
              "      <td>...</td>\n",
              "      <td>Vía pública</td>\n",
              "      <td>Laureles</td>\n",
              "      <td>Peso</td>\n",
              "      <td>Dinero, joyas, piedras preciosas y título valor</td>\n",
              "      <td>Mercancía</td>\n",
              "      <td>-1</td>\n",
              "      <td>Sin dato</td>\n",
              "      <td>Sin dato</td>\n",
              "      <td>Sin dato</td>\n",
              "      <td>2022-12-30T13:40:48.000-05:00</td>\n",
              "    </tr>\n",
              "    <tr>\n",
              "      <th>169462</th>\n",
              "      <td>2022-11-21 07:00:00-05:00</td>\n",
              "      <td>1.0</td>\n",
              "      <td>0.000000</td>\n",
              "      <td>0.000000</td>\n",
              "      <td>Mujer</td>\n",
              "      <td>38</td>\n",
              "      <td>Soltero(a)</td>\n",
              "      <td>Sin dato</td>\n",
              "      <td>Sin dato</td>\n",
              "      <td>Sin dato</td>\n",
              "      <td>...</td>\n",
              "      <td>Vía pública</td>\n",
              "      <td>Laureles</td>\n",
              "      <td>Peso</td>\n",
              "      <td>Dinero, joyas, piedras preciosas y título valor</td>\n",
              "      <td>Mercancía</td>\n",
              "      <td>-1</td>\n",
              "      <td>Sin dato</td>\n",
              "      <td>Sin dato</td>\n",
              "      <td>Sin dato</td>\n",
              "      <td>2022-12-30T13:40:48.000-05:00</td>\n",
              "    </tr>\n",
              "    <tr>\n",
              "      <th>170601</th>\n",
              "      <td>2022-11-30 22:00:00-05:00</td>\n",
              "      <td>1.0</td>\n",
              "      <td>5.605000</td>\n",
              "      <td>-0.000679</td>\n",
              "      <td>Mujer</td>\n",
              "      <td>37</td>\n",
              "      <td>Casado(a)</td>\n",
              "      <td>Sin dato</td>\n",
              "      <td>Sin dato</td>\n",
              "      <td>Sin dato</td>\n",
              "      <td>...</td>\n",
              "      <td>Bus de servicio público</td>\n",
              "      <td>Laureles</td>\n",
              "      <td>Peso</td>\n",
              "      <td>Dinero, joyas, piedras preciosas y título valor</td>\n",
              "      <td>Mercancía</td>\n",
              "      <td>-1</td>\n",
              "      <td>Sin dato</td>\n",
              "      <td>Sin dato</td>\n",
              "      <td>Sin dato</td>\n",
              "      <td>2022-12-30T13:40:48.000-05:00</td>\n",
              "    </tr>\n",
              "  </tbody>\n",
              "</table>\n",
              "<p>18 rows × 36 columns</p>\n",
              "</div>\n",
              "      <button class=\"colab-df-convert\" onclick=\"convertToInteractive('df-af00ff71-7ff8-413f-8f3d-3c6fa4d6c121')\"\n",
              "              title=\"Convert this dataframe to an interactive table.\"\n",
              "              style=\"display:none;\">\n",
              "        \n",
              "  <svg xmlns=\"http://www.w3.org/2000/svg\" height=\"24px\"viewBox=\"0 0 24 24\"\n",
              "       width=\"24px\">\n",
              "    <path d=\"M0 0h24v24H0V0z\" fill=\"none\"/>\n",
              "    <path d=\"M18.56 5.44l.94 2.06.94-2.06 2.06-.94-2.06-.94-.94-2.06-.94 2.06-2.06.94zm-11 1L8.5 8.5l.94-2.06 2.06-.94-2.06-.94L8.5 2.5l-.94 2.06-2.06.94zm10 10l.94 2.06.94-2.06 2.06-.94-2.06-.94-.94-2.06-.94 2.06-2.06.94z\"/><path d=\"M17.41 7.96l-1.37-1.37c-.4-.4-.92-.59-1.43-.59-.52 0-1.04.2-1.43.59L10.3 9.45l-7.72 7.72c-.78.78-.78 2.05 0 2.83L4 21.41c.39.39.9.59 1.41.59.51 0 1.02-.2 1.41-.59l7.78-7.78 2.81-2.81c.8-.78.8-2.07 0-2.86zM5.41 20L4 18.59l7.72-7.72 1.47 1.35L5.41 20z\"/>\n",
              "  </svg>\n",
              "      </button>\n",
              "      \n",
              "  <style>\n",
              "    .colab-df-container {\n",
              "      display:flex;\n",
              "      flex-wrap:wrap;\n",
              "      gap: 12px;\n",
              "    }\n",
              "\n",
              "    .colab-df-convert {\n",
              "      background-color: #E8F0FE;\n",
              "      border: none;\n",
              "      border-radius: 50%;\n",
              "      cursor: pointer;\n",
              "      display: none;\n",
              "      fill: #1967D2;\n",
              "      height: 32px;\n",
              "      padding: 0 0 0 0;\n",
              "      width: 32px;\n",
              "    }\n",
              "\n",
              "    .colab-df-convert:hover {\n",
              "      background-color: #E2EBFA;\n",
              "      box-shadow: 0px 1px 2px rgba(60, 64, 67, 0.3), 0px 1px 3px 1px rgba(60, 64, 67, 0.15);\n",
              "      fill: #174EA6;\n",
              "    }\n",
              "\n",
              "    [theme=dark] .colab-df-convert {\n",
              "      background-color: #3B4455;\n",
              "      fill: #D2E3FC;\n",
              "    }\n",
              "\n",
              "    [theme=dark] .colab-df-convert:hover {\n",
              "      background-color: #434B5C;\n",
              "      box-shadow: 0px 1px 3px 1px rgba(0, 0, 0, 0.15);\n",
              "      filter: drop-shadow(0px 1px 2px rgba(0, 0, 0, 0.3));\n",
              "      fill: #FFFFFF;\n",
              "    }\n",
              "  </style>\n",
              "\n",
              "      <script>\n",
              "        const buttonEl =\n",
              "          document.querySelector('#df-af00ff71-7ff8-413f-8f3d-3c6fa4d6c121 button.colab-df-convert');\n",
              "        buttonEl.style.display =\n",
              "          google.colab.kernel.accessAllowed ? 'block' : 'none';\n",
              "\n",
              "        async function convertToInteractive(key) {\n",
              "          const element = document.querySelector('#df-af00ff71-7ff8-413f-8f3d-3c6fa4d6c121');\n",
              "          const dataTable =\n",
              "            await google.colab.kernel.invokeFunction('convertToInteractive',\n",
              "                                                     [key], {});\n",
              "          if (!dataTable) return;\n",
              "\n",
              "          const docLinkHtml = 'Like what you see? Visit the ' +\n",
              "            '<a target=\"_blank\" href=https://colab.research.google.com/notebooks/data_table.ipynb>data table notebook</a>'\n",
              "            + ' to learn more about interactive tables.';\n",
              "          element.innerHTML = '';\n",
              "          dataTable['output_type'] = 'display_data';\n",
              "          await google.colab.output.renderOutput(dataTable, element);\n",
              "          const docLink = document.createElement('div');\n",
              "          docLink.innerHTML = docLinkHtml;\n",
              "          element.appendChild(docLink);\n",
              "        }\n",
              "      </script>\n",
              "    </div>\n",
              "  </div>\n",
              "  "
            ]
          },
          "metadata": {},
          "execution_count": 17
        }
      ]
    },
    {
      "cell_type": "markdown",
      "source": [
        "**Los anteriores registros deben ser limpiados, ya que no se pueden tener latitudes por fuera del rango en mención en la ciudad de Medellín, lo que nos indica que fueron mal georreferenciados los valores.**"
      ],
      "metadata": {
        "id": "NDjTnQvMNK7F"
      }
    },
    {
      "cell_type": "markdown",
      "source": [
        "####**longitud**"
      ],
      "metadata": {
        "id": "kGFkH0qtNeSn"
      }
    },
    {
      "cell_type": "code",
      "source": [
        "df.longitud"
      ],
      "metadata": {
        "colab": {
          "base_uri": "https://localhost:8080/"
        },
        "id": "BvML3lTANlvU",
        "outputId": "54dfc463-7c2e-4f4d-b64c-1b309d1f41f2"
      },
      "execution_count": null,
      "outputs": [
        {
          "output_type": "execute_result",
          "data": {
            "text/plain": [
              "0        -75.564769\n",
              "1        -75.544787\n",
              "2        -75.563605\n",
              "3        -75.562335\n",
              "4        -75.622267\n",
              "            ...    \n",
              "181199   -75.592292\n",
              "181200   -75.566827\n",
              "181201   -75.556281\n",
              "181202   -75.563416\n",
              "181203   -75.563499\n",
              "Name: longitud, Length: 181204, dtype: float64"
            ]
          },
          "metadata": {},
          "execution_count": 18
        }
      ]
    },
    {
      "cell_type": "code",
      "source": [
        "sum(df.longitud.isnull())"
      ],
      "metadata": {
        "colab": {
          "base_uri": "https://localhost:8080/"
        },
        "id": "9UYmcla6No0u",
        "outputId": "83a12d89-e74c-4c52-ecd7-2997a04fd614"
      },
      "execution_count": null,
      "outputs": [
        {
          "output_type": "execute_result",
          "data": {
            "text/plain": [
              "0"
            ]
          },
          "metadata": {},
          "execution_count": 19
        }
      ]
    },
    {
      "cell_type": "markdown",
      "source": [
        "Al parecer no tenemos valores nulos. Veamos si tenemos registros fuera de lo común"
      ],
      "metadata": {
        "id": "CDXp0Qr2Nt85"
      }
    },
    {
      "cell_type": "code",
      "source": [
        "df[(df['longitud'] >-75.4)|(df['longitud'] <-76)]"
      ],
      "metadata": {
        "colab": {
          "base_uri": "https://localhost:8080/",
          "height": 1000
        },
        "id": "gWV3w5z7Nu5p",
        "outputId": "ab0f0cc0-dedf-4d73-b25a-cbbd0490f8b1"
      },
      "execution_count": null,
      "outputs": [
        {
          "output_type": "execute_result",
          "data": {
            "text/plain": [
              "                     fecha_hecho  cantidad   latitud   longitud    sexo  edad  \\\n",
              "83499  2018-11-28 22:00:00-05:00       1.0  4.598800 -74.074140   Mujer    37   \n",
              "137962 2021-08-08 13:00:00-05:00       1.0  6.179896 -75.337630   Mujer    42   \n",
              "156010 2022-07-22 13:45:00-05:00       1.0  0.000000   0.000000   Mujer    23   \n",
              "158562 2022-08-16 13:30:00-05:00       1.0  5.605000  -0.000679  Hombre    63   \n",
              "164727 2022-10-11 09:00:00-05:00       1.0  5.705000  -0.000679   Mujer    50   \n",
              "165506 2022-10-18 20:08:00-05:00       1.0  0.000000   0.000000  Hombre    23   \n",
              "165924 2022-10-22 14:30:00-05:00       1.0  5.705000  -0.000679  Hombre    40   \n",
              "166813 2022-10-29 21:00:00-05:00       1.0  5.605000  -0.000679  Hombre    47   \n",
              "167295 2022-11-02 13:00:00-05:00       1.0  5.605000  -0.000679  Hombre    -1   \n",
              "167334 2022-11-02 09:03:00-05:00       1.0  5.605000  -0.000679   Mujer    14   \n",
              "167797 2022-11-06 23:00:00-05:00       1.0  5.605000  -0.000679  Hombre    39   \n",
              "168241 2022-11-11 22:00:00-05:00       1.0  5.605000  -0.000679  Hombre    43   \n",
              "169014 2022-11-18 09:56:00-05:00       1.0  0.000000   0.000000  Hombre    -1   \n",
              "169462 2022-11-21 07:00:00-05:00       1.0  0.000000   0.000000   Mujer    38   \n",
              "170601 2022-11-30 22:00:00-05:00       1.0  5.605000  -0.000679   Mujer    37   \n",
              "\n",
              "                  estado_civil grupo_actor actividad_delictiva parentesco  \\\n",
              "83499               Soltero(a)    Sin dato            Sin dato   Sin dato   \n",
              "137962               Casado(a)    Sin dato            Sin dato   Sin dato   \n",
              "156010              Soltero(a)    Sin dato            Sin dato   Sin dato   \n",
              "158562               Casado(a)    Sin dato            Sin dato   Sin dato   \n",
              "164727              Soltero(a)    Sin dato            Sin dato   Sin dato   \n",
              "165506              Soltero(a)    Sin dato            Sin dato   Sin dato   \n",
              "165924              Soltero(a)    Sin dato            Sin dato   Sin dato   \n",
              "166813              Soltero(a)    Sin dato            Sin dato   Sin dato   \n",
              "167295              Soltero(a)    Sin dato            Sin dato   Sin dato   \n",
              "167334              Soltero(a)    Sin dato            Sin dato   Sin dato   \n",
              "167797  Unión marital de hecho    Sin dato            Sin dato   Sin dato   \n",
              "168241              Soltero(a)    Sin dato            Sin dato   Sin dato   \n",
              "169014              Soltero(a)    Sin dato            Sin dato   Sin dato   \n",
              "169462              Soltero(a)    Sin dato            Sin dato   Sin dato   \n",
              "170601               Casado(a)    Sin dato            Sin dato   Sin dato   \n",
              "\n",
              "        ...                    lugar sede_receptora       bien  \\\n",
              "83499   ...              Vía pública       Laureles       Peso   \n",
              "137962  ...                     Baño          Belén  Billetera   \n",
              "156010  ...              Vía pública       Laureles       Peso   \n",
              "158562  ...              Vía pública       Laureles       Peso   \n",
              "164727  ...              Vía pública       Laureles       Peso   \n",
              "165506  ...              Vía pública       Laureles       Peso   \n",
              "165924  ...              Vía pública       Laureles       Peso   \n",
              "166813  ...              Vía pública       Laureles       Peso   \n",
              "167295  ...    Hotel, motel y hostal       Laureles       Peso   \n",
              "167334  ...              Vía pública       Laureles       Peso   \n",
              "167797  ...              Vía pública       Laureles       Peso   \n",
              "168241  ...              Vía pública       Laureles       Peso   \n",
              "169014  ...              Vía pública       Laureles       Peso   \n",
              "169462  ...              Vía pública       Laureles       Peso   \n",
              "170601  ...  Bus de servicio público       Laureles       Peso   \n",
              "\n",
              "                                         categoria_bien grupo_bien modelo  \\\n",
              "83499   Dinero, joyas, piedras preciosas y título valor  Mercancía     -1   \n",
              "137962                   Prendas de vestir y accesorios  Mercancía     -1   \n",
              "156010  Dinero, joyas, piedras preciosas y título valor  Mercancía     -1   \n",
              "158562  Dinero, joyas, piedras preciosas y título valor  Mercancía     -1   \n",
              "164727  Dinero, joyas, piedras preciosas y título valor  Mercancía     -1   \n",
              "165506  Dinero, joyas, piedras preciosas y título valor  Mercancía     -1   \n",
              "165924  Dinero, joyas, piedras preciosas y título valor  Mercancía     -1   \n",
              "166813  Dinero, joyas, piedras preciosas y título valor  Mercancía     -1   \n",
              "167295  Dinero, joyas, piedras preciosas y título valor  Mercancía     -1   \n",
              "167334  Dinero, joyas, piedras preciosas y título valor  Mercancía     -1   \n",
              "167797  Dinero, joyas, piedras preciosas y título valor  Mercancía     -1   \n",
              "168241  Dinero, joyas, piedras preciosas y título valor  Mercancía     -1   \n",
              "169014  Dinero, joyas, piedras preciosas y título valor  Mercancía     -1   \n",
              "169462  Dinero, joyas, piedras preciosas y título valor  Mercancía     -1   \n",
              "170601  Dinero, joyas, piedras preciosas y título valor  Mercancía     -1   \n",
              "\n",
              "           color   permiso unidad_medida                fecha_ingestion  \n",
              "83499   Sin dato  Sin dato      Sin dato  2022-12-30T13:40:48.000-05:00  \n",
              "137962  Sin dato  Sin dato      Sin dato  2022-12-30T13:40:48.000-05:00  \n",
              "156010  Sin dato  Sin dato      Sin dato  2022-12-30T13:40:48.000-05:00  \n",
              "158562  Sin dato  Sin dato      Sin dato  2022-12-30T13:40:48.000-05:00  \n",
              "164727  Sin dato  Sin dato      Sin dato  2022-12-30T13:40:48.000-05:00  \n",
              "165506  Sin dato  Sin dato      Sin dato  2022-12-30T13:40:48.000-05:00  \n",
              "165924  Sin dato  Sin dato      Sin dato  2022-12-30T13:40:48.000-05:00  \n",
              "166813  Sin dato  Sin dato      Sin dato  2022-12-30T13:40:48.000-05:00  \n",
              "167295  Sin dato  Sin dato      Sin dato  2022-12-30T13:40:48.000-05:00  \n",
              "167334  Sin dato  Sin dato      Sin dato  2022-12-30T13:40:48.000-05:00  \n",
              "167797  Sin dato  Sin dato      Sin dato  2022-12-30T13:40:48.000-05:00  \n",
              "168241  Sin dato  Sin dato      Sin dato  2022-12-30T13:40:48.000-05:00  \n",
              "169014  Sin dato  Sin dato      Sin dato  2022-12-30T13:40:48.000-05:00  \n",
              "169462  Sin dato  Sin dato      Sin dato  2022-12-30T13:40:48.000-05:00  \n",
              "170601  Sin dato  Sin dato      Sin dato  2022-12-30T13:40:48.000-05:00  \n",
              "\n",
              "[15 rows x 36 columns]"
            ],
            "text/html": [
              "\n",
              "  <div id=\"df-68884123-4017-4092-86d9-e2f6612e38bd\">\n",
              "    <div class=\"colab-df-container\">\n",
              "      <div>\n",
              "<style scoped>\n",
              "    .dataframe tbody tr th:only-of-type {\n",
              "        vertical-align: middle;\n",
              "    }\n",
              "\n",
              "    .dataframe tbody tr th {\n",
              "        vertical-align: top;\n",
              "    }\n",
              "\n",
              "    .dataframe thead th {\n",
              "        text-align: right;\n",
              "    }\n",
              "</style>\n",
              "<table border=\"1\" class=\"dataframe\">\n",
              "  <thead>\n",
              "    <tr style=\"text-align: right;\">\n",
              "      <th></th>\n",
              "      <th>fecha_hecho</th>\n",
              "      <th>cantidad</th>\n",
              "      <th>latitud</th>\n",
              "      <th>longitud</th>\n",
              "      <th>sexo</th>\n",
              "      <th>edad</th>\n",
              "      <th>estado_civil</th>\n",
              "      <th>grupo_actor</th>\n",
              "      <th>actividad_delictiva</th>\n",
              "      <th>parentesco</th>\n",
              "      <th>...</th>\n",
              "      <th>lugar</th>\n",
              "      <th>sede_receptora</th>\n",
              "      <th>bien</th>\n",
              "      <th>categoria_bien</th>\n",
              "      <th>grupo_bien</th>\n",
              "      <th>modelo</th>\n",
              "      <th>color</th>\n",
              "      <th>permiso</th>\n",
              "      <th>unidad_medida</th>\n",
              "      <th>fecha_ingestion</th>\n",
              "    </tr>\n",
              "  </thead>\n",
              "  <tbody>\n",
              "    <tr>\n",
              "      <th>83499</th>\n",
              "      <td>2018-11-28 22:00:00-05:00</td>\n",
              "      <td>1.0</td>\n",
              "      <td>4.598800</td>\n",
              "      <td>-74.074140</td>\n",
              "      <td>Mujer</td>\n",
              "      <td>37</td>\n",
              "      <td>Soltero(a)</td>\n",
              "      <td>Sin dato</td>\n",
              "      <td>Sin dato</td>\n",
              "      <td>Sin dato</td>\n",
              "      <td>...</td>\n",
              "      <td>Vía pública</td>\n",
              "      <td>Laureles</td>\n",
              "      <td>Peso</td>\n",
              "      <td>Dinero, joyas, piedras preciosas y título valor</td>\n",
              "      <td>Mercancía</td>\n",
              "      <td>-1</td>\n",
              "      <td>Sin dato</td>\n",
              "      <td>Sin dato</td>\n",
              "      <td>Sin dato</td>\n",
              "      <td>2022-12-30T13:40:48.000-05:00</td>\n",
              "    </tr>\n",
              "    <tr>\n",
              "      <th>137962</th>\n",
              "      <td>2021-08-08 13:00:00-05:00</td>\n",
              "      <td>1.0</td>\n",
              "      <td>6.179896</td>\n",
              "      <td>-75.337630</td>\n",
              "      <td>Mujer</td>\n",
              "      <td>42</td>\n",
              "      <td>Casado(a)</td>\n",
              "      <td>Sin dato</td>\n",
              "      <td>Sin dato</td>\n",
              "      <td>Sin dato</td>\n",
              "      <td>...</td>\n",
              "      <td>Baño</td>\n",
              "      <td>Belén</td>\n",
              "      <td>Billetera</td>\n",
              "      <td>Prendas de vestir y accesorios</td>\n",
              "      <td>Mercancía</td>\n",
              "      <td>-1</td>\n",
              "      <td>Sin dato</td>\n",
              "      <td>Sin dato</td>\n",
              "      <td>Sin dato</td>\n",
              "      <td>2022-12-30T13:40:48.000-05:00</td>\n",
              "    </tr>\n",
              "    <tr>\n",
              "      <th>156010</th>\n",
              "      <td>2022-07-22 13:45:00-05:00</td>\n",
              "      <td>1.0</td>\n",
              "      <td>0.000000</td>\n",
              "      <td>0.000000</td>\n",
              "      <td>Mujer</td>\n",
              "      <td>23</td>\n",
              "      <td>Soltero(a)</td>\n",
              "      <td>Sin dato</td>\n",
              "      <td>Sin dato</td>\n",
              "      <td>Sin dato</td>\n",
              "      <td>...</td>\n",
              "      <td>Vía pública</td>\n",
              "      <td>Laureles</td>\n",
              "      <td>Peso</td>\n",
              "      <td>Dinero, joyas, piedras preciosas y título valor</td>\n",
              "      <td>Mercancía</td>\n",
              "      <td>-1</td>\n",
              "      <td>Sin dato</td>\n",
              "      <td>Sin dato</td>\n",
              "      <td>Sin dato</td>\n",
              "      <td>2022-12-30T13:40:48.000-05:00</td>\n",
              "    </tr>\n",
              "    <tr>\n",
              "      <th>158562</th>\n",
              "      <td>2022-08-16 13:30:00-05:00</td>\n",
              "      <td>1.0</td>\n",
              "      <td>5.605000</td>\n",
              "      <td>-0.000679</td>\n",
              "      <td>Hombre</td>\n",
              "      <td>63</td>\n",
              "      <td>Casado(a)</td>\n",
              "      <td>Sin dato</td>\n",
              "      <td>Sin dato</td>\n",
              "      <td>Sin dato</td>\n",
              "      <td>...</td>\n",
              "      <td>Vía pública</td>\n",
              "      <td>Laureles</td>\n",
              "      <td>Peso</td>\n",
              "      <td>Dinero, joyas, piedras preciosas y título valor</td>\n",
              "      <td>Mercancía</td>\n",
              "      <td>-1</td>\n",
              "      <td>Sin dato</td>\n",
              "      <td>Sin dato</td>\n",
              "      <td>Sin dato</td>\n",
              "      <td>2022-12-30T13:40:48.000-05:00</td>\n",
              "    </tr>\n",
              "    <tr>\n",
              "      <th>164727</th>\n",
              "      <td>2022-10-11 09:00:00-05:00</td>\n",
              "      <td>1.0</td>\n",
              "      <td>5.705000</td>\n",
              "      <td>-0.000679</td>\n",
              "      <td>Mujer</td>\n",
              "      <td>50</td>\n",
              "      <td>Soltero(a)</td>\n",
              "      <td>Sin dato</td>\n",
              "      <td>Sin dato</td>\n",
              "      <td>Sin dato</td>\n",
              "      <td>...</td>\n",
              "      <td>Vía pública</td>\n",
              "      <td>Laureles</td>\n",
              "      <td>Peso</td>\n",
              "      <td>Dinero, joyas, piedras preciosas y título valor</td>\n",
              "      <td>Mercancía</td>\n",
              "      <td>-1</td>\n",
              "      <td>Sin dato</td>\n",
              "      <td>Sin dato</td>\n",
              "      <td>Sin dato</td>\n",
              "      <td>2022-12-30T13:40:48.000-05:00</td>\n",
              "    </tr>\n",
              "    <tr>\n",
              "      <th>165506</th>\n",
              "      <td>2022-10-18 20:08:00-05:00</td>\n",
              "      <td>1.0</td>\n",
              "      <td>0.000000</td>\n",
              "      <td>0.000000</td>\n",
              "      <td>Hombre</td>\n",
              "      <td>23</td>\n",
              "      <td>Soltero(a)</td>\n",
              "      <td>Sin dato</td>\n",
              "      <td>Sin dato</td>\n",
              "      <td>Sin dato</td>\n",
              "      <td>...</td>\n",
              "      <td>Vía pública</td>\n",
              "      <td>Laureles</td>\n",
              "      <td>Peso</td>\n",
              "      <td>Dinero, joyas, piedras preciosas y título valor</td>\n",
              "      <td>Mercancía</td>\n",
              "      <td>-1</td>\n",
              "      <td>Sin dato</td>\n",
              "      <td>Sin dato</td>\n",
              "      <td>Sin dato</td>\n",
              "      <td>2022-12-30T13:40:48.000-05:00</td>\n",
              "    </tr>\n",
              "    <tr>\n",
              "      <th>165924</th>\n",
              "      <td>2022-10-22 14:30:00-05:00</td>\n",
              "      <td>1.0</td>\n",
              "      <td>5.705000</td>\n",
              "      <td>-0.000679</td>\n",
              "      <td>Hombre</td>\n",
              "      <td>40</td>\n",
              "      <td>Soltero(a)</td>\n",
              "      <td>Sin dato</td>\n",
              "      <td>Sin dato</td>\n",
              "      <td>Sin dato</td>\n",
              "      <td>...</td>\n",
              "      <td>Vía pública</td>\n",
              "      <td>Laureles</td>\n",
              "      <td>Peso</td>\n",
              "      <td>Dinero, joyas, piedras preciosas y título valor</td>\n",
              "      <td>Mercancía</td>\n",
              "      <td>-1</td>\n",
              "      <td>Sin dato</td>\n",
              "      <td>Sin dato</td>\n",
              "      <td>Sin dato</td>\n",
              "      <td>2022-12-30T13:40:48.000-05:00</td>\n",
              "    </tr>\n",
              "    <tr>\n",
              "      <th>166813</th>\n",
              "      <td>2022-10-29 21:00:00-05:00</td>\n",
              "      <td>1.0</td>\n",
              "      <td>5.605000</td>\n",
              "      <td>-0.000679</td>\n",
              "      <td>Hombre</td>\n",
              "      <td>47</td>\n",
              "      <td>Soltero(a)</td>\n",
              "      <td>Sin dato</td>\n",
              "      <td>Sin dato</td>\n",
              "      <td>Sin dato</td>\n",
              "      <td>...</td>\n",
              "      <td>Vía pública</td>\n",
              "      <td>Laureles</td>\n",
              "      <td>Peso</td>\n",
              "      <td>Dinero, joyas, piedras preciosas y título valor</td>\n",
              "      <td>Mercancía</td>\n",
              "      <td>-1</td>\n",
              "      <td>Sin dato</td>\n",
              "      <td>Sin dato</td>\n",
              "      <td>Sin dato</td>\n",
              "      <td>2022-12-30T13:40:48.000-05:00</td>\n",
              "    </tr>\n",
              "    <tr>\n",
              "      <th>167295</th>\n",
              "      <td>2022-11-02 13:00:00-05:00</td>\n",
              "      <td>1.0</td>\n",
              "      <td>5.605000</td>\n",
              "      <td>-0.000679</td>\n",
              "      <td>Hombre</td>\n",
              "      <td>-1</td>\n",
              "      <td>Soltero(a)</td>\n",
              "      <td>Sin dato</td>\n",
              "      <td>Sin dato</td>\n",
              "      <td>Sin dato</td>\n",
              "      <td>...</td>\n",
              "      <td>Hotel, motel y hostal</td>\n",
              "      <td>Laureles</td>\n",
              "      <td>Peso</td>\n",
              "      <td>Dinero, joyas, piedras preciosas y título valor</td>\n",
              "      <td>Mercancía</td>\n",
              "      <td>-1</td>\n",
              "      <td>Sin dato</td>\n",
              "      <td>Sin dato</td>\n",
              "      <td>Sin dato</td>\n",
              "      <td>2022-12-30T13:40:48.000-05:00</td>\n",
              "    </tr>\n",
              "    <tr>\n",
              "      <th>167334</th>\n",
              "      <td>2022-11-02 09:03:00-05:00</td>\n",
              "      <td>1.0</td>\n",
              "      <td>5.605000</td>\n",
              "      <td>-0.000679</td>\n",
              "      <td>Mujer</td>\n",
              "      <td>14</td>\n",
              "      <td>Soltero(a)</td>\n",
              "      <td>Sin dato</td>\n",
              "      <td>Sin dato</td>\n",
              "      <td>Sin dato</td>\n",
              "      <td>...</td>\n",
              "      <td>Vía pública</td>\n",
              "      <td>Laureles</td>\n",
              "      <td>Peso</td>\n",
              "      <td>Dinero, joyas, piedras preciosas y título valor</td>\n",
              "      <td>Mercancía</td>\n",
              "      <td>-1</td>\n",
              "      <td>Sin dato</td>\n",
              "      <td>Sin dato</td>\n",
              "      <td>Sin dato</td>\n",
              "      <td>2022-12-30T13:40:48.000-05:00</td>\n",
              "    </tr>\n",
              "    <tr>\n",
              "      <th>167797</th>\n",
              "      <td>2022-11-06 23:00:00-05:00</td>\n",
              "      <td>1.0</td>\n",
              "      <td>5.605000</td>\n",
              "      <td>-0.000679</td>\n",
              "      <td>Hombre</td>\n",
              "      <td>39</td>\n",
              "      <td>Unión marital de hecho</td>\n",
              "      <td>Sin dato</td>\n",
              "      <td>Sin dato</td>\n",
              "      <td>Sin dato</td>\n",
              "      <td>...</td>\n",
              "      <td>Vía pública</td>\n",
              "      <td>Laureles</td>\n",
              "      <td>Peso</td>\n",
              "      <td>Dinero, joyas, piedras preciosas y título valor</td>\n",
              "      <td>Mercancía</td>\n",
              "      <td>-1</td>\n",
              "      <td>Sin dato</td>\n",
              "      <td>Sin dato</td>\n",
              "      <td>Sin dato</td>\n",
              "      <td>2022-12-30T13:40:48.000-05:00</td>\n",
              "    </tr>\n",
              "    <tr>\n",
              "      <th>168241</th>\n",
              "      <td>2022-11-11 22:00:00-05:00</td>\n",
              "      <td>1.0</td>\n",
              "      <td>5.605000</td>\n",
              "      <td>-0.000679</td>\n",
              "      <td>Hombre</td>\n",
              "      <td>43</td>\n",
              "      <td>Soltero(a)</td>\n",
              "      <td>Sin dato</td>\n",
              "      <td>Sin dato</td>\n",
              "      <td>Sin dato</td>\n",
              "      <td>...</td>\n",
              "      <td>Vía pública</td>\n",
              "      <td>Laureles</td>\n",
              "      <td>Peso</td>\n",
              "      <td>Dinero, joyas, piedras preciosas y título valor</td>\n",
              "      <td>Mercancía</td>\n",
              "      <td>-1</td>\n",
              "      <td>Sin dato</td>\n",
              "      <td>Sin dato</td>\n",
              "      <td>Sin dato</td>\n",
              "      <td>2022-12-30T13:40:48.000-05:00</td>\n",
              "    </tr>\n",
              "    <tr>\n",
              "      <th>169014</th>\n",
              "      <td>2022-11-18 09:56:00-05:00</td>\n",
              "      <td>1.0</td>\n",
              "      <td>0.000000</td>\n",
              "      <td>0.000000</td>\n",
              "      <td>Hombre</td>\n",
              "      <td>-1</td>\n",
              "      <td>Soltero(a)</td>\n",
              "      <td>Sin dato</td>\n",
              "      <td>Sin dato</td>\n",
              "      <td>Sin dato</td>\n",
              "      <td>...</td>\n",
              "      <td>Vía pública</td>\n",
              "      <td>Laureles</td>\n",
              "      <td>Peso</td>\n",
              "      <td>Dinero, joyas, piedras preciosas y título valor</td>\n",
              "      <td>Mercancía</td>\n",
              "      <td>-1</td>\n",
              "      <td>Sin dato</td>\n",
              "      <td>Sin dato</td>\n",
              "      <td>Sin dato</td>\n",
              "      <td>2022-12-30T13:40:48.000-05:00</td>\n",
              "    </tr>\n",
              "    <tr>\n",
              "      <th>169462</th>\n",
              "      <td>2022-11-21 07:00:00-05:00</td>\n",
              "      <td>1.0</td>\n",
              "      <td>0.000000</td>\n",
              "      <td>0.000000</td>\n",
              "      <td>Mujer</td>\n",
              "      <td>38</td>\n",
              "      <td>Soltero(a)</td>\n",
              "      <td>Sin dato</td>\n",
              "      <td>Sin dato</td>\n",
              "      <td>Sin dato</td>\n",
              "      <td>...</td>\n",
              "      <td>Vía pública</td>\n",
              "      <td>Laureles</td>\n",
              "      <td>Peso</td>\n",
              "      <td>Dinero, joyas, piedras preciosas y título valor</td>\n",
              "      <td>Mercancía</td>\n",
              "      <td>-1</td>\n",
              "      <td>Sin dato</td>\n",
              "      <td>Sin dato</td>\n",
              "      <td>Sin dato</td>\n",
              "      <td>2022-12-30T13:40:48.000-05:00</td>\n",
              "    </tr>\n",
              "    <tr>\n",
              "      <th>170601</th>\n",
              "      <td>2022-11-30 22:00:00-05:00</td>\n",
              "      <td>1.0</td>\n",
              "      <td>5.605000</td>\n",
              "      <td>-0.000679</td>\n",
              "      <td>Mujer</td>\n",
              "      <td>37</td>\n",
              "      <td>Casado(a)</td>\n",
              "      <td>Sin dato</td>\n",
              "      <td>Sin dato</td>\n",
              "      <td>Sin dato</td>\n",
              "      <td>...</td>\n",
              "      <td>Bus de servicio público</td>\n",
              "      <td>Laureles</td>\n",
              "      <td>Peso</td>\n",
              "      <td>Dinero, joyas, piedras preciosas y título valor</td>\n",
              "      <td>Mercancía</td>\n",
              "      <td>-1</td>\n",
              "      <td>Sin dato</td>\n",
              "      <td>Sin dato</td>\n",
              "      <td>Sin dato</td>\n",
              "      <td>2022-12-30T13:40:48.000-05:00</td>\n",
              "    </tr>\n",
              "  </tbody>\n",
              "</table>\n",
              "<p>15 rows × 36 columns</p>\n",
              "</div>\n",
              "      <button class=\"colab-df-convert\" onclick=\"convertToInteractive('df-68884123-4017-4092-86d9-e2f6612e38bd')\"\n",
              "              title=\"Convert this dataframe to an interactive table.\"\n",
              "              style=\"display:none;\">\n",
              "        \n",
              "  <svg xmlns=\"http://www.w3.org/2000/svg\" height=\"24px\"viewBox=\"0 0 24 24\"\n",
              "       width=\"24px\">\n",
              "    <path d=\"M0 0h24v24H0V0z\" fill=\"none\"/>\n",
              "    <path d=\"M18.56 5.44l.94 2.06.94-2.06 2.06-.94-2.06-.94-.94-2.06-.94 2.06-2.06.94zm-11 1L8.5 8.5l.94-2.06 2.06-.94-2.06-.94L8.5 2.5l-.94 2.06-2.06.94zm10 10l.94 2.06.94-2.06 2.06-.94-2.06-.94-.94-2.06-.94 2.06-2.06.94z\"/><path d=\"M17.41 7.96l-1.37-1.37c-.4-.4-.92-.59-1.43-.59-.52 0-1.04.2-1.43.59L10.3 9.45l-7.72 7.72c-.78.78-.78 2.05 0 2.83L4 21.41c.39.39.9.59 1.41.59.51 0 1.02-.2 1.41-.59l7.78-7.78 2.81-2.81c.8-.78.8-2.07 0-2.86zM5.41 20L4 18.59l7.72-7.72 1.47 1.35L5.41 20z\"/>\n",
              "  </svg>\n",
              "      </button>\n",
              "      \n",
              "  <style>\n",
              "    .colab-df-container {\n",
              "      display:flex;\n",
              "      flex-wrap:wrap;\n",
              "      gap: 12px;\n",
              "    }\n",
              "\n",
              "    .colab-df-convert {\n",
              "      background-color: #E8F0FE;\n",
              "      border: none;\n",
              "      border-radius: 50%;\n",
              "      cursor: pointer;\n",
              "      display: none;\n",
              "      fill: #1967D2;\n",
              "      height: 32px;\n",
              "      padding: 0 0 0 0;\n",
              "      width: 32px;\n",
              "    }\n",
              "\n",
              "    .colab-df-convert:hover {\n",
              "      background-color: #E2EBFA;\n",
              "      box-shadow: 0px 1px 2px rgba(60, 64, 67, 0.3), 0px 1px 3px 1px rgba(60, 64, 67, 0.15);\n",
              "      fill: #174EA6;\n",
              "    }\n",
              "\n",
              "    [theme=dark] .colab-df-convert {\n",
              "      background-color: #3B4455;\n",
              "      fill: #D2E3FC;\n",
              "    }\n",
              "\n",
              "    [theme=dark] .colab-df-convert:hover {\n",
              "      background-color: #434B5C;\n",
              "      box-shadow: 0px 1px 3px 1px rgba(0, 0, 0, 0.15);\n",
              "      filter: drop-shadow(0px 1px 2px rgba(0, 0, 0, 0.3));\n",
              "      fill: #FFFFFF;\n",
              "    }\n",
              "  </style>\n",
              "\n",
              "      <script>\n",
              "        const buttonEl =\n",
              "          document.querySelector('#df-68884123-4017-4092-86d9-e2f6612e38bd button.colab-df-convert');\n",
              "        buttonEl.style.display =\n",
              "          google.colab.kernel.accessAllowed ? 'block' : 'none';\n",
              "\n",
              "        async function convertToInteractive(key) {\n",
              "          const element = document.querySelector('#df-68884123-4017-4092-86d9-e2f6612e38bd');\n",
              "          const dataTable =\n",
              "            await google.colab.kernel.invokeFunction('convertToInteractive',\n",
              "                                                     [key], {});\n",
              "          if (!dataTable) return;\n",
              "\n",
              "          const docLinkHtml = 'Like what you see? Visit the ' +\n",
              "            '<a target=\"_blank\" href=https://colab.research.google.com/notebooks/data_table.ipynb>data table notebook</a>'\n",
              "            + ' to learn more about interactive tables.';\n",
              "          element.innerHTML = '';\n",
              "          dataTable['output_type'] = 'display_data';\n",
              "          await google.colab.output.renderOutput(dataTable, element);\n",
              "          const docLink = document.createElement('div');\n",
              "          docLink.innerHTML = docLinkHtml;\n",
              "          element.appendChild(docLink);\n",
              "        }\n",
              "      </script>\n",
              "    </div>\n",
              "  </div>\n",
              "  "
            ]
          },
          "metadata": {},
          "execution_count": 20
        }
      ]
    },
    {
      "cell_type": "markdown",
      "source": [
        "De nuevo, estos son valores que tenemos que tener en cuenta al momento de limpair la base, ya que no tienen sentido que estén acá."
      ],
      "metadata": {
        "id": "PaT_-w0MOF44"
      }
    },
    {
      "cell_type": "markdown",
      "source": [
        "####**sexo**"
      ],
      "metadata": {
        "id": "Q7_8MeCYOOzr"
      }
    },
    {
      "cell_type": "code",
      "source": [
        "sum(df.sexo.isnull())"
      ],
      "metadata": {
        "colab": {
          "base_uri": "https://localhost:8080/"
        },
        "id": "FHnJWOksORib",
        "outputId": "d7f6b00e-8fd7-45a5-eaf6-ac876984280a"
      },
      "execution_count": null,
      "outputs": [
        {
          "output_type": "execute_result",
          "data": {
            "text/plain": [
              "0"
            ]
          },
          "metadata": {},
          "execution_count": 21
        }
      ]
    },
    {
      "cell_type": "code",
      "source": [
        "df.sexo.unique()"
      ],
      "metadata": {
        "colab": {
          "base_uri": "https://localhost:8080/"
        },
        "id": "G3e0D9gmORoY",
        "outputId": "7b24497e-28c7-4f74-c3e9-0477869e6b7a"
      },
      "execution_count": null,
      "outputs": [
        {
          "output_type": "execute_result",
          "data": {
            "text/plain": [
              "array(['Hombre', 'Mujer', 'Sin dato'], dtype=object)"
            ]
          },
          "metadata": {},
          "execution_count": 22
        }
      ]
    },
    {
      "cell_type": "code",
      "source": [
        "df.sexo.value_counts()"
      ],
      "metadata": {
        "colab": {
          "base_uri": "https://localhost:8080/"
        },
        "id": "kTiIWjJFOa8X",
        "outputId": "7c862990-f49b-4bb1-f1b7-5465c347d4eb"
      },
      "execution_count": null,
      "outputs": [
        {
          "output_type": "execute_result",
          "data": {
            "text/plain": [
              "Hombre      104141\n",
              "Mujer        77062\n",
              "Sin dato         1\n",
              "Name: sexo, dtype: int64"
            ]
          },
          "metadata": {},
          "execution_count": 23
        }
      ]
    },
    {
      "cell_type": "markdown",
      "source": [
        "Se podría construir un indicador de densidad por sexo de personas que hurtan de acuerdo al número de aquellas que vivan en el lugar. Si no es así, no me parece tan viable dicha característica."
      ],
      "metadata": {
        "id": "EIOnS1vXOxhI"
      }
    },
    {
      "cell_type": "markdown",
      "source": [
        "####**edad**"
      ],
      "metadata": {
        "id": "k34HLEnrPEEJ"
      }
    },
    {
      "cell_type": "code",
      "source": [
        "sum(df.edad.isnull())"
      ],
      "metadata": {
        "colab": {
          "base_uri": "https://localhost:8080/"
        },
        "id": "VS8BYc_FPGsL",
        "outputId": "a0186b41-208a-4cab-b5b3-2105b22922a9"
      },
      "execution_count": null,
      "outputs": [
        {
          "output_type": "execute_result",
          "data": {
            "text/plain": [
              "0"
            ]
          },
          "metadata": {},
          "execution_count": 24
        }
      ]
    },
    {
      "cell_type": "code",
      "source": [
        "df.edad.unique()"
      ],
      "metadata": {
        "colab": {
          "base_uri": "https://localhost:8080/"
        },
        "id": "sN_kdeN-PITY",
        "outputId": "d58261f6-f043-4310-d7de-523877eeb971"
      },
      "execution_count": null,
      "outputs": [
        {
          "output_type": "execute_result",
          "data": {
            "text/plain": [
              "array([ 54,  36,  35,  38,  28,  49,  31,  61,  45,  41,  20,  46,  51,\n",
              "        22,  39,  53,  63,  69,  32,  68,  24,  23,  29,  13,  21,  72,\n",
              "        26,  19,  30,  59,  27,  25,  56,  47,  18,  -1,  66,  55,  33,\n",
              "        70,  64,  52,  43,  17,  42,  34,  37,  62,  44,  48,  40,  50,\n",
              "        58,  60,  57,  73,  15,  65,  16,  71,  74,  14,  77,  67,  90,\n",
              "        85,  11,  12,  75,  82,  83,  84,  78,  87,  79,  81,  89,  92,\n",
              "        10,  80,  76,   9,  86,   8,  88,  96,   4,  91,   1,   7,   2,\n",
              "        94,   5,   3,   6,  93, 121,  95])"
            ]
          },
          "metadata": {},
          "execution_count": 25
        }
      ]
    },
    {
      "cell_type": "code",
      "source": [
        "df.edad.value_counts().plot(kind='bar', figsize=(20,15))\n"
      ],
      "metadata": {
        "colab": {
          "base_uri": "https://localhost:8080/",
          "height": 889
        },
        "id": "EK4-Cf1OPMMv",
        "outputId": "43eb1acf-3894-4fc8-c547-26d25a55618d"
      },
      "execution_count": null,
      "outputs": [
        {
          "output_type": "execute_result",
          "data": {
            "text/plain": [
              "<AxesSubplot:>"
            ]
          },
          "metadata": {},
          "execution_count": 26
        },
        {
          "output_type": "display_data",
          "data": {
            "text/plain": [
              "<Figure size 1440x1080 with 1 Axes>"
            ],
            "image/png": "[encoded data removed]"
          },
          "metadata": {
            "needs_background": "light"
          }
        }
      ]
    },
    {
      "cell_type": "code",
      "source": [
        "1814/181204"
      ],
      "metadata": {
        "colab": {
          "base_uri": "https://localhost:8080/"
        },
        "id": "AdW-avHMPbap",
        "outputId": "73d5dd32-15fa-4cf2-9ccf-3937c4a5616a"
      },
      "execution_count": null,
      "outputs": [
        {
          "output_type": "execute_result",
          "data": {
            "text/plain": [
              "0.010010816538266264"
            ]
          },
          "metadata": {},
          "execution_count": 27
        }
      ]
    },
    {
      "cell_type": "markdown",
      "source": [
        "En este momento no veo claramente como ingresar la variable de edad en el análisis. "
      ],
      "metadata": {
        "id": "XM78aECPQRSb"
      }
    },
    {
      "cell_type": "markdown",
      "source": [
        "####**estado_civil**"
      ],
      "metadata": {
        "id": "gUg65reHQvwj"
      }
    },
    {
      "cell_type": "code",
      "source": [
        "sum(df.estado_civil.isnull())"
      ],
      "metadata": {
        "colab": {
          "base_uri": "https://localhost:8080/"
        },
        "id": "-WlbQ_egQ3b-",
        "outputId": "e6ebdd95-07bb-42d0-a593-827d385c5b69"
      },
      "execution_count": null,
      "outputs": [
        {
          "output_type": "execute_result",
          "data": {
            "text/plain": [
              "0"
            ]
          },
          "metadata": {},
          "execution_count": 28
        }
      ]
    },
    {
      "cell_type": "markdown",
      "source": [
        "Al parecer no tenemos valores nulos."
      ],
      "metadata": {
        "id": "MDzoiHVyLkan"
      }
    },
    {
      "cell_type": "code",
      "source": [
        "df.estado_civil.unique()"
      ],
      "metadata": {
        "colab": {
          "base_uri": "https://localhost:8080/"
        },
        "id": "MjVrSQ4CQ4pa",
        "outputId": "47503634-871f-4f06-bd2c-33bc12fdd3de"
      },
      "execution_count": null,
      "outputs": [
        {
          "output_type": "execute_result",
          "data": {
            "text/plain": [
              "array(['Divorciado(a)', 'Unión marital de hecho', 'Soltero(a)',\n",
              "       'Casado(a)', 'Viudo(a)', 'Sin dato'], dtype=object)"
            ]
          },
          "metadata": {},
          "execution_count": 29
        }
      ]
    },
    {
      "cell_type": "code",
      "source": [
        "df.estado_civil.value_counts()"
      ],
      "metadata": {
        "colab": {
          "base_uri": "https://localhost:8080/"
        },
        "id": "Z87Vi6UhQ-Lo",
        "outputId": "c9aa9336-40c5-4f8a-b1b0-55818c78e53c"
      },
      "execution_count": null,
      "outputs": [
        {
          "output_type": "execute_result",
          "data": {
            "text/plain": [
              "Soltero(a)                114074\n",
              "Casado(a)                  32002\n",
              "Unión marital de hecho     26008\n",
              "Divorciado(a)               5258\n",
              "Sin dato                    2316\n",
              "Viudo(a)                    1546\n",
              "Name: estado_civil, dtype: int64"
            ]
          },
          "metadata": {},
          "execution_count": 30
        }
      ]
    },
    {
      "cell_type": "markdown",
      "source": [
        "####**grupo_actor**"
      ],
      "metadata": {
        "id": "FZKGF7tERI05"
      }
    },
    {
      "cell_type": "code",
      "source": [
        "sum(df.grupo_actor.isnull())"
      ],
      "metadata": {
        "colab": {
          "base_uri": "https://localhost:8080/"
        },
        "id": "rFWdviEkRM1l",
        "outputId": "b8170b25-4daf-4a2b-b82d-ea4a5e6be9d5"
      },
      "execution_count": null,
      "outputs": [
        {
          "output_type": "execute_result",
          "data": {
            "text/plain": [
              "0"
            ]
          },
          "metadata": {},
          "execution_count": 31
        }
      ]
    },
    {
      "cell_type": "markdown",
      "source": [
        "No está claro la maner en que podemos ingresar el dato."
      ],
      "metadata": {
        "id": "ClD4DG1SRCHp"
      }
    },
    {
      "cell_type": "code",
      "source": [
        "df.grupo_actor.unique()"
      ],
      "metadata": {
        "colab": {
          "base_uri": "https://localhost:8080/"
        },
        "id": "jh5dO_9NRSK5",
        "outputId": "6f553aaa-045c-4b29-8aa8-5923802af9fe"
      },
      "execution_count": null,
      "outputs": [
        {
          "output_type": "execute_result",
          "data": {
            "text/plain": [
              "array(['Sin dato'], dtype=object)"
            ]
          },
          "metadata": {},
          "execution_count": 32
        }
      ]
    },
    {
      "cell_type": "markdown",
      "source": [
        "Esta columna debe ser **removida** ya que no se tiene información sobre esta."
      ],
      "metadata": {
        "id": "O9J5P8dORX_x"
      }
    },
    {
      "cell_type": "markdown",
      "source": [
        "####**actividad_delictiva**"
      ],
      "metadata": {
        "id": "vc1XDqzeRgUz"
      }
    },
    {
      "cell_type": "code",
      "source": [
        "sum(df.actividad_delictiva.isnull())"
      ],
      "metadata": {
        "colab": {
          "base_uri": "https://localhost:8080/"
        },
        "id": "8UXakeC8Rfxr",
        "outputId": "09c76333-04c3-4fdd-fb61-a7b9d88f8a60"
      },
      "execution_count": null,
      "outputs": [
        {
          "output_type": "execute_result",
          "data": {
            "text/plain": [
              "0"
            ]
          },
          "metadata": {},
          "execution_count": 33
        }
      ]
    },
    {
      "cell_type": "code",
      "source": [
        "df.actividad_delictiva.unique()"
      ],
      "metadata": {
        "colab": {
          "base_uri": "https://localhost:8080/"
        },
        "id": "dQxNZlFQRlo7",
        "outputId": "a43e4365-4b91-4253-852e-be00e8d6466e"
      },
      "execution_count": null,
      "outputs": [
        {
          "output_type": "execute_result",
          "data": {
            "text/plain": [
              "array(['Sin dato'], dtype=object)"
            ]
          },
          "metadata": {},
          "execution_count": 34
        }
      ]
    },
    {
      "cell_type": "code",
      "source": [
        "df.parentesco.unique()"
      ],
      "metadata": {
        "colab": {
          "base_uri": "https://localhost:8080/"
        },
        "id": "HQo8l7mKRq-f",
        "outputId": "f8d6b4b1-c361-446b-b415-a2fb83b946c3"
      },
      "execution_count": null,
      "outputs": [
        {
          "output_type": "execute_result",
          "data": {
            "text/plain": [
              "array(['Sin dato'], dtype=object)"
            ]
          },
          "metadata": {},
          "execution_count": 35
        }
      ]
    },
    {
      "cell_type": "code",
      "source": [
        "df.ocupacion.unique()"
      ],
      "metadata": {
        "colab": {
          "base_uri": "https://localhost:8080/"
        },
        "id": "wy5p9GLlRwaZ",
        "outputId": "a36f18a0-f4cb-4c8d-f9e3-c80a48e79ccb"
      },
      "execution_count": null,
      "outputs": [
        {
          "output_type": "execute_result",
          "data": {
            "text/plain": [
              "array(['Sin dato'], dtype=object)"
            ]
          },
          "metadata": {},
          "execution_count": 36
        }
      ]
    },
    {
      "cell_type": "code",
      "source": [
        "df.discapacidad.unique()"
      ],
      "metadata": {
        "colab": {
          "base_uri": "https://localhost:8080/"
        },
        "id": "CXbF3E5gRzIC",
        "outputId": "10783ab6-5525-42e9-a33a-0181532f10a4"
      },
      "execution_count": null,
      "outputs": [
        {
          "output_type": "execute_result",
          "data": {
            "text/plain": [
              "array(['Sin dato'], dtype=object)"
            ]
          },
          "metadata": {},
          "execution_count": 37
        }
      ]
    },
    {
      "cell_type": "code",
      "source": [
        "df.grupo_especial.unique()"
      ],
      "metadata": {
        "colab": {
          "base_uri": "https://localhost:8080/"
        },
        "id": "Koq7ctuoR2nq",
        "outputId": "6e2de83c-dafe-418f-d0ab-210820f293e6"
      },
      "execution_count": null,
      "outputs": [
        {
          "output_type": "execute_result",
          "data": {
            "text/plain": [
              "array(['Sin dato'], dtype=object)"
            ]
          },
          "metadata": {},
          "execution_count": 38
        }
      ]
    },
    {
      "cell_type": "code",
      "source": [
        "df.nivel_academico.unique()"
      ],
      "metadata": {
        "colab": {
          "base_uri": "https://localhost:8080/"
        },
        "id": "0-tAidK0SBfT",
        "outputId": "ef1822b5-21b1-432b-f213-5839ad5c78c8"
      },
      "execution_count": null,
      "outputs": [
        {
          "output_type": "execute_result",
          "data": {
            "text/plain": [
              "array(['Sin dato'], dtype=object)"
            ]
          },
          "metadata": {},
          "execution_count": 39
        }
      ]
    },
    {
      "cell_type": "code",
      "source": [
        "df.testigo.unique()"
      ],
      "metadata": {
        "colab": {
          "base_uri": "https://localhost:8080/"
        },
        "id": "d75kKxzvSGV8",
        "outputId": "40f839ef-c123-47bc-e453-7d61a323f3f9"
      },
      "execution_count": null,
      "outputs": [
        {
          "output_type": "execute_result",
          "data": {
            "text/plain": [
              "array(['Sin dato'], dtype=object)"
            ]
          },
          "metadata": {},
          "execution_count": 40
        }
      ]
    },
    {
      "cell_type": "code",
      "source": [
        "df.conducta.unique() # No da información relevante"
      ],
      "metadata": {
        "colab": {
          "base_uri": "https://localhost:8080/"
        },
        "id": "eIJv_5hESJhD",
        "outputId": "6b55afd1-04f1-4018-e64d-20d9120bf7bf"
      },
      "execution_count": null,
      "outputs": [
        {
          "output_type": "execute_result",
          "data": {
            "text/plain": [
              "array(['Hurto a persona'], dtype=object)"
            ]
          },
          "metadata": {},
          "execution_count": 41
        }
      ]
    },
    {
      "cell_type": "code",
      "source": [
        "df.caracterizacion.unique()"
      ],
      "metadata": {
        "colab": {
          "base_uri": "https://localhost:8080/"
        },
        "id": "TyA0sSUdSPFI",
        "outputId": "d2023706-032a-4f34-b8c9-8e4400a79fb9"
      },
      "execution_count": null,
      "outputs": [
        {
          "output_type": "execute_result",
          "data": {
            "text/plain": [
              "array(['Sin dato'], dtype=object)"
            ]
          },
          "metadata": {},
          "execution_count": 42
        }
      ]
    },
    {
      "cell_type": "code",
      "source": [
        "df.articulo_penal.unique()"
      ],
      "metadata": {
        "colab": {
          "base_uri": "https://localhost:8080/"
        },
        "id": "zMCw4dZnSV7e",
        "outputId": "b1689bf3-1fbf-47f4-e309-72ed528cbdcb"
      },
      "execution_count": null,
      "outputs": [
        {
          "output_type": "execute_result",
          "data": {
            "text/plain": [
              "array(['Sin dato'], dtype=object)"
            ]
          },
          "metadata": {},
          "execution_count": 43
        }
      ]
    },
    {
      "cell_type": "code",
      "source": [
        "df.categoria_penal.unique()"
      ],
      "metadata": {
        "colab": {
          "base_uri": "https://localhost:8080/"
        },
        "id": "QaPi6blOSoKw",
        "outputId": "6c761c83-62c3-417d-9331-26ee9a10d7d6"
      },
      "execution_count": null,
      "outputs": [
        {
          "output_type": "execute_result",
          "data": {
            "text/plain": [
              "array(['Sin dato'], dtype=object)"
            ]
          },
          "metadata": {},
          "execution_count": 44
        }
      ]
    },
    {
      "cell_type": "code",
      "source": [
        "df.permiso.unique()"
      ],
      "metadata": {
        "colab": {
          "base_uri": "https://localhost:8080/"
        },
        "id": "UjHUvFNoSrl0",
        "outputId": "fc7d507f-76b7-4143-e356-94d20b8c9fc6"
      },
      "execution_count": null,
      "outputs": [
        {
          "output_type": "execute_result",
          "data": {
            "text/plain": [
              "array(['Sin dato'], dtype=object)"
            ]
          },
          "metadata": {},
          "execution_count": 45
        }
      ]
    },
    {
      "cell_type": "code",
      "source": [
        "df.unidad_medida.unique()"
      ],
      "metadata": {
        "colab": {
          "base_uri": "https://localhost:8080/"
        },
        "id": "HpWE_8jFTZAk",
        "outputId": "ec757259-055f-47f5-ca77-1bafa7653a77"
      },
      "execution_count": null,
      "outputs": [
        {
          "output_type": "execute_result",
          "data": {
            "text/plain": [
              "array(['Sin dato'], dtype=object)"
            ]
          },
          "metadata": {},
          "execution_count": 46
        }
      ]
    },
    {
      "cell_type": "code",
      "source": [
        "df.fecha_ingestion.unique()"
      ],
      "metadata": {
        "colab": {
          "base_uri": "https://localhost:8080/"
        },
        "id": "xyM5CWDUTcL1",
        "outputId": "c1d1c769-a7f9-48e1-beff-ab5c98272666"
      },
      "execution_count": null,
      "outputs": [
        {
          "output_type": "execute_result",
          "data": {
            "text/plain": [
              "array(['2022-12-30T13:40:48.000-05:00'], dtype=object)"
            ]
          },
          "metadata": {},
          "execution_count": 47
        }
      ]
    },
    {
      "cell_type": "markdown",
      "source": [
        "Estas columnas deben ser **removidas** ya que no se tiene información sobre esta."
      ],
      "metadata": {
        "id": "rrTQmi5pR-mv"
      }
    },
    {
      "cell_type": "code",
      "source": [
        "df.medio_transporte.unique()"
      ],
      "metadata": {
        "colab": {
          "base_uri": "https://localhost:8080/"
        },
        "id": "zb4tYqGJR5rq",
        "outputId": "680c4555-2bad-45f0-f4d5-e8f86651a772"
      },
      "execution_count": null,
      "outputs": [
        {
          "output_type": "execute_result",
          "data": {
            "text/plain": [
              "array(['Caminata', 'Automóvil', 'Motocicleta', 'Metro',\n",
              "       'Motocicleta con parrillero', 'Autobus', 'Bicicleta', 'Taxi',\n",
              "       'Planeador', 'Sin dato'], dtype=object)"
            ]
          },
          "metadata": {},
          "execution_count": 48
        }
      ]
    },
    {
      "cell_type": "code",
      "source": [
        "df.modalidad.unique()"
      ],
      "metadata": {
        "colab": {
          "base_uri": "https://localhost:8080/"
        },
        "id": "h3msJRTCSRnY",
        "outputId": "9f426706-d6ff-4ccb-da55-60d344310e94"
      },
      "execution_count": null,
      "outputs": [
        {
          "output_type": "execute_result",
          "data": {
            "text/plain": [
              "array(['Raponazo', 'Atraco', 'Rompimiento cerraduta', 'Cosquilleo',\n",
              "       'Descuido', 'Escopolamina', 'Sin dato', 'Halado',\n",
              "       'Rompimiento de ventana', 'Comisión de delito', 'Engaño',\n",
              "       'Paquete chileno', 'Simulando necesidad', 'Suplantación',\n",
              "       'Llave maestra', 'Fleteo', 'Retención de dinero',\n",
              "       'Clonación de tarjeta'], dtype=object)"
            ]
          },
          "metadata": {},
          "execution_count": 49
        }
      ]
    },
    {
      "cell_type": "code",
      "source": [
        "df.conducta_especial.unique()"
      ],
      "metadata": {
        "colab": {
          "base_uri": "https://localhost:8080/"
        },
        "id": "HMeIOBoCSaoc",
        "outputId": "cec2ddb8-d757-495d-a31e-231d4505f587"
      },
      "execution_count": null,
      "outputs": [
        {
          "output_type": "execute_result",
          "data": {
            "text/plain": [
              "array(['Sin dato', 'No', 'De celular', 'Fleteo', 'A taxista', 'De cable',\n",
              "       'A bus de servicio público', 'A vehículo repartidor', 'Estafa',\n",
              "       'Grupo delincuencial', 'Adulteración', 'Extorsión', 'Homicidio',\n",
              "       'Medios informáticos', 'Violencia contra la mujer',\n",
              "       'Plaza de vicio', 'Delito sexual', 'Vehículo servicio público',\n",
              "       'Secuestro', 'Clonación de tarjeta', 'Paro o protesta',\n",
              "       'De Aeronave', 'Vehículo particular'], dtype=object)"
            ]
          },
          "metadata": {},
          "execution_count": 50
        }
      ]
    },
    {
      "cell_type": "code",
      "source": [
        "df.arma_medio.unique()"
      ],
      "metadata": {
        "colab": {
          "base_uri": "https://localhost:8080/"
        },
        "id": "1KPX9cZISg0u",
        "outputId": "b09781d0-c110-4996-b160-9f9446a70aca"
      },
      "execution_count": null,
      "outputs": [
        {
          "output_type": "execute_result",
          "data": {
            "text/plain": [
              "array(['No', 'Arma de fuego', 'Arma cortopunzante', 'Objeto contundente',\n",
              "       'Escopolamina', 'Llave maestra', 'Sin dato', 'Tóxico o Químico'],\n",
              "      dtype=object)"
            ]
          },
          "metadata": {},
          "execution_count": 51
        }
      ]
    },
    {
      "cell_type": "code",
      "source": [
        "df.nombre_barrio.unique()"
      ],
      "metadata": {
        "colab": {
          "base_uri": "https://localhost:8080/"
        },
        "id": "j0lNWJB_SxGn",
        "outputId": "4133f89b-ce36-456e-93d9-d1a543c04a4a"
      },
      "execution_count": null,
      "outputs": [
        {
          "output_type": "execute_result",
          "data": {
            "text/plain": [
              "array(['Villa Nueva', 'Los Cerros el Vergel', 'El Salvador', 'El Salado',\n",
              "       'Miranda', 'Alejandro Echavarría', 'Berlin', 'Rosales',\n",
              "       'Bosques de San Pablo', 'Barrio Caycedo', 'La Candelaria', 'Sucre',\n",
              "       'La Gloria', 'Villa Carlota', 'El Diamante', 'Barrio Colón',\n",
              "       'El Velódromo', 'Altos del Poblado', 'Barrio Colombia',\n",
              "       'Asomadera No.2', 'Carlos E. Restrepo', 'La Colina', 'Lorena',\n",
              "       'Belén', 'Bolivariana', 'Manila', 'Las Palmas S.E.',\n",
              "       'Villa Hermosa', 'Manrique Central No.1', 'Guayaquil',\n",
              "       'Campo Amor', 'La Salle', 'Corazón de Jesús', 'Palermo',\n",
              "       'Universidad de Antioquia', 'Perpetuo Socorro', 'U.P.B', 'Fátima',\n",
              "       'Plaza de Ferias', 'Jesús Nazareno', 'Terminal de Transporte',\n",
              "       'El Rodeo', 'Pajarito', 'Versalles No.1', 'La América',\n",
              "       'Blanquizal', 'Los Balsos No.2', 'Santo Domingo Savio No.2',\n",
              "       'El Poblado', 'San Benito', 'La Floresta', 'Naranjal',\n",
              "       'La Castellana', 'Aranjuez', 'San Diego',\n",
              "       'Área Urbana Cgto. San Antonio de Prado', 'La Florida',\n",
              "       'San Martín de Porres', 'Los Colores', 'Cucaracho',\n",
              "       'Estación Villa', 'Altamira', 'Boston', 'Diego Echavarría',\n",
              "       'Belalcázar', 'Estadio', 'San Germán', 'Brasilia', 'Villa Niza',\n",
              "       'Calle Nueva', 'Los Naranjos', 'Parque Juan Pablo II', 'La Mota',\n",
              "       'Área de expansión Pajarito', 'Los Alpes', 'Robledo', 'La Pradera',\n",
              "       'Veinte de Julio', 'Prado', 'Trinidad', 'Los Balsos No.1',\n",
              "       'El Diamante No.2', 'Kennedy', 'Santa Cruz', 'Ferrini', 'Boyacá',\n",
              "       'Patio Bonito', 'Santa Teresita', 'Aures No.2', 'Santa Mónica',\n",
              "       'Astorga', 'Cerro Nutibara Ins.', 'San Joaquín', 'Laureles',\n",
              "       'El Raizal', 'Granada', 'La Esperanza', 'Doce de Octubre No.1',\n",
              "       'Calasanz', 'Calasania Parte Alta', 'Loreto', 'Los Alcázares',\n",
              "       'Los Conquistadores', 'Simón Bolívar', 'Cristo Rey', 'Las Granjas',\n",
              "       'Campo Valdés No.2', 'Santa Margarita', 'Caribe', 'Guayabal',\n",
              "       'Castilla', 'Campo Alegre', 'San Isidro', 'Las Mercedes',\n",
              "       'Santa Fé', 'Jardín Botánico', 'Bomboná No.1', 'Santa Lucía',\n",
              "       'Suramericana', 'Popular', 'San Javier No.1', 'Alejandría',\n",
              "       'Sevilla', 'Campo Valdés No.1', 'Las Acacias', 'Manrique Oriental',\n",
              "       'San Lucas', 'San Miguel', 'Las Brisas', 'Progreso', 'El Chagualo',\n",
              "       'Moravia', 'El Pesebre', 'Los Ángeles', 'La Milagrosa',\n",
              "       'Florencia', 'El Rincón', 'Florida Nueva', 'Parque Norte',\n",
              "       'Los Pinos', 'Tejelo', 'Pedregal', 'Las Esmeraldas', 'Media Luna',\n",
              "       'Ecoparque Cerro El Volador', 'La Palma', 'Tricentenario',\n",
              "       'Miraflores', 'La Frontera', 'La Isla', 'Las Violetas',\n",
              "       'Las Lomas No.1', 'Santo Domingo Savio No.1', 'Castropol',\n",
              "       'Girardot', 'San Bernardo', 'Alfonso López', 'El Corazón',\n",
              "       'Buenos Aires', 'Gerona', 'Tenche', 'Universidad Nacional',\n",
              "       'Manrique Central No.2', 'Nueva Villa del Aburrá',\n",
              "       'El Nogal-Los Almendros', 'La Piñuela', 'Carpinelo',\n",
              "       'Centro Administrativo', 'Lalinde', 'La Alpujarra', 'Miravalle',\n",
              "       'Córdoba', 'La Aguacatala', 'Hospital San Vicente de Paúl',\n",
              "       'San Pedro', 'Santa Inés', 'María Cano-Carambolas', 'Picacho',\n",
              "       'La Mansión', 'López de Mesa', 'Francisco Antonio Zea', 'Mazo',\n",
              "       'Piedras Blancas Matasano', 'Las Palmas', 'Palenque',\n",
              "       'La Loma de los Bernal', 'El Tesoro', 'Aures No.1',\n",
              "       'Facultad de Minas U. Nal', 'Santa María de los Ángeles',\n",
              "       'Altavista', 'La Pilarica', 'Oleoducto', 'San Javier No.2',\n",
              "       'Progreso No.2', 'Villatina', 'U.D. Atanasio Girardot',\n",
              "       'Cuarta Brigada', 'Cerro Nutibara', 'Pedregal Alto',\n",
              "       'Nueva Villa de la Iguaná', 'La Rosa', 'Cataluña', 'Las Playas',\n",
              "       'Villa Guadalupe', 'Moscú No.2', 'Toscana', 'Potrerito',\n",
              "       'La Francia', 'Fuente Clara', 'Enciso', 'La Ladera',\n",
              "       'Santa Rosa de Lima', 'El Pinal',\n",
              "       'Área Urbana Cgto. San Cristóbal', 'Héctor Abad Gómez',\n",
              "       'Monteclaro', 'La Verde', 'Las Independencias', 'Bello Horizonte',\n",
              "       'Volcana Guayabal', 'Santander', 'Cementerio Universal',\n",
              "       'Las Lomas No.2', 'Villa Flora', 'Boqueron', 'Mirador del Doce',\n",
              "       'Aguas Frias', 'El Pomar', 'Área de expansión Belén',\n",
              "       'B. Cerro el Volador', 'Aldea Pablo VI', 'El Castillo',\n",
              "       'Bomboná No.2', 'Belencito', 'Playón de los Comuneros', 'Oriente',\n",
              "       'La Sierra', 'El Danubio', 'Bermejal-Los Alamos',\n",
              "       'Área de expansión Calasanz', 'Granizal', 'Barrio Cristóbal',\n",
              "       'El Socorro', 'Eduardo Santos', 'Palmitas sector central',\n",
              "       'La Hondonada', 'San Pablo', 'Antonio Nariño', 'La Libertad',\n",
              "       'Doce de Octubre No.2', 'Betania', 'Pablo VI', 'Los Mangos',\n",
              "       'Batallón Cuarta Brigada', 'Juan XXIIIi la Quiebra',\n",
              "       'Pajarito S.C.', 'La Loma', 'Altavista Sector Central',\n",
              "       'Trece de Noviembre', 'Batallón Girardot', 'Moscú No.1',\n",
              "       'Las Estancias', 'Barrios de Jesús', 'Santa Elena sector central',\n",
              "       'La Esperanza No.2', 'El Placer', 'Olaya Herrera',\n",
              "       'El Llano Santa Elena', 'Área de expansión San Antonio De Prado',\n",
              "       'Picachito', 'Villa del Socorro', 'San Jose del Manzanillo',\n",
              "       'Nuevos Conquistadores', 'Fac. Veterinaria y Zootecnia U.De.A.',\n",
              "       'Andalucía', 'Villa Lilliam', 'Villa Turbay', 'Versalles No.2',\n",
              "       'La Cruz', 'San José la Cima No.1',\n",
              "       'Facultad de Minas U. Nacional', 'Naranjal S.C.', 'V. El Salado',\n",
              "       'San Antonio', 'La Esperanza A.V.', 'El Picacho', 'Ocho de Marzo',\n",
              "       'La Avanzada', 'El Corazon el Morro', 'Metropolitano',\n",
              "       'Área de expansión Altavista', 'El Triunfo', 'Travesias',\n",
              "       'San Pablo A.V.', 'Asomadera No.1', 'San Jose',\n",
              "       'Sin dato 60 San Cristobal', 'Montanita', 'La Cuchilla',\n",
              "       'Piedra Gorda', 'Llanaditas', 'El Yolombo', 'Sin dato',\n",
              "       'Juan Pablo II', 'El Llano', 'Barro Blanco', 'El Plan',\n",
              "       'El Compromiso', 'Las Playas S.C.', 'El Carmelo', 'Asomadera No.3',\n",
              "       'Buga Patio Bonito', 'El Astillero', 'La Palma S.C.', 'La Sucia',\n",
              "       'Sin dato 80 San Antonio de Prado', 'San José la Cima No.2',\n",
              "       'La Florida S.A.P.', 'La Aldea', 'San Jose de La Montaña',\n",
              "       'El Jardin', 'El Cerro', 'El Patio', 'Yarumalito', 'La Suiza',\n",
              "       'Área de expansión Eduardo Santos', 'La Frisola',\n",
              "       'Potrera Miserenga', 'Urquita', 'El Uvito',\n",
              "       'Área de expansión El Noral', 'La Ilusion'], dtype=object)"
            ]
          },
          "metadata": {},
          "execution_count": 52
        }
      ]
    },
    {
      "cell_type": "code",
      "source": [
        "df.codigo_barrio.unique()"
      ],
      "metadata": {
        "colab": {
          "base_uri": "https://localhost:8080/"
        },
        "id": "v5_vJZkbS1uN",
        "outputId": "25b16fff-322e-4c8b-e7c5-e832510aa88d"
      },
      "execution_count": null,
      "outputs": [
        {
          "output_type": "execute_result",
          "data": {
            "text/plain": [
              "array(['#1018', '#0904', '#0912', '#1316', '#0415', '#0905', '#0401',\n",
              "       '#1602', '#0707', '#0906', '#1019', '#0809', '#1612', '#1403',\n",
              "       '#0711', '#1013', '#1112', '#1408', '#1401', '#0915', '#1101',\n",
              "       '#1511', '#1111', '#1603', '#1107', '#1419', '#9001', '#0801',\n",
              "       '#0409', '#1007', '#1507', '#0301', '#1008', '#0403', 'Inst_11',\n",
              "       '#1012', 'Inst_15', '#1601', 'Inst_1', '#1003', 'Inst_4',\n",
              "       'Inst_20', '#0723', '#0309', '#1204', '#1302', '#1415', '#0102',\n",
              "       '#1418', '#1006', '#1205', '#1103', '#1110', '#0413', '#1020',\n",
              "       'AUC2', '#1417', '#0606', '#1114', '#0718', '#1005', '#0708',\n",
              "       '#1016', '#1607', '#0508', '#1113', '#0703', '#0414', '#0208',\n",
              "       '#1011', '#1410', 'Inst_19', '#1608', 'AE1', '#1615', '#0717',\n",
              "       '#1306', '#1310', '#1001', '#1503', '#1411', '#1413', '#0607',\n",
              "       '#0210', '#1201', '#0505', '#1421', '#1212', '#0712', '#1209',\n",
              "       '#1420', 'Inst_18', '#1104', '#1108', '#0305', '#1604', '#0605',\n",
              "       '#0602', '#1202', '#1213', '#0913', '#1304', '#1105', '#1211',\n",
              "       '#1509', '#0302', '#0303', '#0720', '#0517', '#1510', '#0511',\n",
              "       '#1208', '#0402', '#1617', '#1504', 'Inst_10', '#1015', '#1206',\n",
              "       '#1102', '#0103', '#1309', '#1416', '#0407', '#0410', '#1109',\n",
              "       '#0308', '#1412', '#0803', '#0502', '#0519', '#1004', '#0405',\n",
              "       '#1301', '#1017', '#0910', '#0503', '#1610', '#1117', 'Inst_9',\n",
              "       '#1203', '#0504', '#0604', '#0411', '#9002', 'Inst_7', '#1614',\n",
              "       '#0510', '#0908', '#0204', '#0201', '#1616', '#1406', '#0101',\n",
              "       '#1404', '#0509', '#1605', '#0514', '#1313', '#0907', '#0911',\n",
              "       '#1502', 'Inst_8', '#0307', '#1618', '#1620', '#0412', '#0112',\n",
              "       'Inst_17', '#1405', 'Inst_16', '#1619', '#0709', '#1422',\n",
              "       'Inst_12', '#0408', '#0304', '#0313', '#0608', '#0802', '#0710',\n",
              "       '#0513', '#9011', '#9003', '#1014', '#0716', '#1611', '#1409',\n",
              "       '#0713', 'Inst_5', '#1423', '#1613', '#0706', 'Inst_2', '#1308',\n",
              "       '#0611', '#0813', 'Inst_14', '#1115', '#1621', '#6013', '#0725',\n",
              "       '#0211', '#0909', '#1606', '#0106', '#0105', '#0501', '#8002',\n",
              "       '#0205', '#0719', '#0808', '#0804', '#1303', '#0810', 'AUC1',\n",
              "       '#0507', '#0724', '#8007', '#1314', '#0714', '#5005', '#0601',\n",
              "       'Inst_3', '#1407', '#0715', '#6006', '#0610', '#7002', '#0306',\n",
              "       'AE6', '#0702', '#0109', '#1414', '#0903', '#1311', '#0202',\n",
              "       '#0312', '#0817', '#1207', '#0404', 'AE2', '#0104', '#1210',\n",
              "       '#1319', '#1317', '#5004', '#1609', '#0107', '#1318', '#0812',\n",
              "       '#0603', '#1312', '#0203', '#0807', 'Inst_13', '#1307', '#6012',\n",
              "       '#6014', '#7005', '#0811', '#0805', '#0209', '#0815', '#0902',\n",
              "       '#9006', '#0110', '#9005', '#0722', '#9008', 'AE7', '#0609',\n",
              "       '#0207', '#7007', '#1315', 'Inst_6', '#0206', '#0819', '#0816',\n",
              "       '#0310', '#0311', '#0314', '#0705', '#6005', '#8006', '#0814',\n",
              "       '#7006', '#6011', '#0917', '#0111', '#7003', '#1305', 'AE5',\n",
              "       '#0612', '#6016', '#7004', '#0914', '#8008',\n",
              "       'SIN DATO 60 SAN CRISTOBAL', '#8003', '#6004', '#9010', '#0806',\n",
              "       '#6009', 'SIN DATO', '#0901', '#6017', '#9004', '#9009', '#0108',\n",
              "       '#6015', '#6010', '#0916', '#7001', '#8005', '#6001', '#5002',\n",
              "       'SIN DATO 80 SAN ANTONIO DE PRADO', '#0315', '#8001', '#5007',\n",
              "       '#6007', '#7008', '#9007', '#Inst_16', '#Inst_5', '#Inst_8',\n",
              "       '#Inst_14', '#AE6', '#Inst_12', '#Inst_17', '#Inst_9', '#Inst_11',\n",
              "       '#Inst_15', '#Inst_20', '#Inst_4', '#Inst_19', '#Inst_10', '#AUC1',\n",
              "       '#Inst_18', '#Inst_7', '#Inst_2', '#Inst_3', '#AUC2', '#Inst_1',\n",
              "       '#AE7', '#Inst_6', '#AE1', '#Inst_13', '#AE5', '#6002', '#AE2',\n",
              "       '#8004', '#5001', 'AE3', '#5006', '#5008', '#5003', '#6003', 'AE4',\n",
              "       '#6008'], dtype=object)"
            ]
          },
          "metadata": {},
          "execution_count": 53
        }
      ]
    },
    {
      "cell_type": "code",
      "source": [
        "df.codigo_comuna.unique()"
      ],
      "metadata": {
        "colab": {
          "base_uri": "https://localhost:8080/"
        },
        "id": "SVJ2xwc6S5t2",
        "outputId": "4b903dc1-5544-4db9-ad84-a43bf9e11694"
      },
      "execution_count": null,
      "outputs": [
        {
          "output_type": "execute_result",
          "data": {
            "text/plain": [
              "array([10, 9, 13, 4, 16, 7, 8, 14, 11, 15, 90, 3, 5, 12, 1, 80, 6, 2, 60,\n",
              "       50, 70, '14', '15', '10', '9', '16', '12', '11', '7', '8', '5',\n",
              "       '13', '4', '3', '70', '6', '1', '60', '80', '2', '90', '50',\n",
              "       'SIN DATO'], dtype=object)"
            ]
          },
          "metadata": {},
          "execution_count": 54
        }
      ]
    },
    {
      "cell_type": "code",
      "source": [
        "df.lugar.unique()"
      ],
      "metadata": {
        "colab": {
          "base_uri": "https://localhost:8080/"
        },
        "id": "9P6OeHXjS-FT",
        "outputId": "21deed10-55d6-44c7-976c-5eb9a43877d4"
      },
      "execution_count": null,
      "outputs": [
        {
          "output_type": "execute_result",
          "data": {
            "text/plain": [
              "array(['Vía pública', 'Residencia', 'Paradero de bus', 'Taller mecánico',\n",
              "       'Almacén tienda y otro', 'Centro comercial', 'Turístico',\n",
              "       'Bus de servicio público', 'Estación del Metro', 'Oficina',\n",
              "       'Estación del Metro plus', 'Escenario deportivo', 'Banco',\n",
              "       'Cafetería',\n",
              "       'Institución educativa (jardín, primaria o secundaria)',\n",
              "       'Sin dato', 'Vehículo particular', 'Casa o apartamento',\n",
              "       'Hospital o centro de salud', 'Hotel, motel y hostal',\n",
              "       'Instalación gubernamental',\n",
              "       'Caseta vigilancia conjunto residencial', 'Conjunto residencial',\n",
              "       'Bodega', 'Parqueadero', 'Local comercial', 'Puente peatonal',\n",
              "       'Quebrada o rio', 'Fábrica o empresa', 'Terminal de transporte',\n",
              "       'Parque', 'Supermercado', 'Edificio', 'Puesto de trabajo',\n",
              "       'Cajero electrónico', 'Cementerio', 'Restaurante', 'Zona boscosa',\n",
              "       'Bar o cantina', 'Estación de gasolina', 'Gimnasio',\n",
              "       'Funeraria y sala de velación', 'Iglesia', 'Casino', 'Metro Plus',\n",
              "       'Centro de belleza o estética', 'Instalación fuerza pública',\n",
              "       'Albergue', 'Prostíbulo', 'Café internet', 'Finca',\n",
              "       'Institución de educación superior', 'Feria de ganado',\n",
              "       'Aeropuerto', 'Biblioteca', 'Baño', 'Teatro',\n",
              "       'Droguería o farmacia', 'Sede social, club, auditorio o similar',\n",
              "       'Billar', 'Piscina', 'Panadería', 'Lavadero de carros', 'Librería',\n",
              "       'Obra en construcción', 'Plaza de mercado', 'Plaza de toros',\n",
              "       'Caseta de vigilancia empresa', 'Casa de apuesta', 'Metro',\n",
              "       'Cárcel', 'Hogar de paso', 'Estadero', 'Reserva natural',\n",
              "       'Laboratorios de procesamiento de droga ílicita', 'Compraventa',\n",
              "       'Lote baldío', 'Corporación', 'Consultorio jurídico',\n",
              "       'Represa o laguna', 'Montallanta', 'Peaje', 'Potrero',\n",
              "       'Sede política', 'Matadero, carnicería y similar',\n",
              "       'Instalación judicial', 'Desguazadero', 'Joyería',\n",
              "       'Empresa de transporte'], dtype=object)"
            ]
          },
          "metadata": {},
          "execution_count": 55
        }
      ]
    },
    {
      "cell_type": "code",
      "source": [
        "df.sede_receptora.unique()"
      ],
      "metadata": {
        "colab": {
          "base_uri": "https://localhost:8080/"
        },
        "id": "dqk0AO20TDni",
        "outputId": "7c02bf1e-c38f-496f-a30f-4e98a3fc72ce"
      },
      "execution_count": null,
      "outputs": [
        {
          "output_type": "execute_result",
          "data": {
            "text/plain": [
              "array(['Candelaria', 'Buenos Aires', 'San Javier', 'Aranjuez', 'Belén',\n",
              "       'Castilla', 'Villa Hermosa', 'Poblado', 'Laureles', 'Manrique',\n",
              "       'Popular', 'Doce de Octubre', 'Santa Cruz', 'San Antonio de Prado',\n",
              "       'Bello', 'Sabaneta', 'Itagüí', 'Envigado', 'La Estrella',\n",
              "       'Copacabana', 'Aeropuerto Olaya Herrera', 'Caldas'], dtype=object)"
            ]
          },
          "metadata": {},
          "execution_count": 56
        }
      ]
    },
    {
      "cell_type": "code",
      "source": [
        "df.bien.unique()"
      ],
      "metadata": {
        "colab": {
          "base_uri": "https://localhost:8080/"
        },
        "id": "lRMibPa4THXj",
        "outputId": "bf984116-a3a2-4fba-c01d-c0b4c7511802"
      },
      "execution_count": null,
      "outputs": [
        {
          "output_type": "execute_result",
          "data": {
            "text/plain": [
              "array(['Celular', 'Tarjeta bancaria', 'Libreta militar', 'Peso',\n",
              "       'Licencia', 'Cédula', 'Accesorios prendas de vestir',\n",
              "       'Alimento para animales', 'Tarjeta para computador',\n",
              "       'Accesorios celular', 'Sin dato documentos', 'Bono',\n",
              "       'Electrodoméstico video y audio y accesorios',\n",
              "       'Elementos computador', 'Tablet', 'Libros', 'Carne', 'Billetera',\n",
              "       'Bicicleta', 'Soat', 'Sin dato tecnología', 'Llave', 'Vcd',\n",
              "       'Llaveros', 'Revisión técnico mecánica', 'Espejo',\n",
              "       'Tarjeta de identidad', 'Maletín', 'Zapatos', 'Pasaporte',\n",
              "       'Articulos electrónica', 'Autopartes', 'Módem', 'Computador',\n",
              "       'Sin dato', 'Cdt', 'Agenda digital', 'Dólar', 'Ropa exterior',\n",
              "       'Placa policial', 'Arnés', 'Encomiendas',\n",
              "       'Documentación electoral', 'Expediente', 'Analgésico',\n",
              "       'Portadocumentos', 'Repuestos para maquinaria y equipo',\n",
              "       'Artículos de aseo personal', 'Cuenta de ahorro', 'Ventilador',\n",
              "       'Certificado de gases', 'Decodificadores/tarjetas decodificadoras',\n",
              "       'Cargadores', 'Accesorios de peluquería', 'Contraseña cédula',\n",
              "       'Botas de caucho', 'Sin dato electrodomésticos', 'Placa',\n",
              "       'Plancha de cabello', 'Talonario', 'Taladro', 'Euro', 'Archivador',\n",
              "       'Medicamentos', 'Artículos y ropa de cama', 'Patente',\n",
              "       'Electrodomésticos cocina y limpieza hogar', 'Casco moto',\n",
              "       'Forro para electrodoméstico', 'Revólver', 'Elementos escolares',\n",
              "       'Interior', 'Muebles del hogar', 'Dijes', 'Piedra preciosa',\n",
              "       'Acciones', 'Motor', 'Promesa de compraventa', 'Equipos varios',\n",
              "       'Tarjeta de comunicación', 'Sombrilla', 'Micrófono', 'Cámara',\n",
              "       'Gps', 'Cheques', 'Boleta', 'Diario digital',\n",
              "       'Sin dato herramientas', 'Registro civil', 'Insumo médico',\n",
              "       'Animales domésticos', 'Prendas ponal', 'Radio', 'Peineta',\n",
              "       'Carta', 'Calibre munición', 'Estuche', 'Salsa', 'Cd',\n",
              "       'Documentos falsos', 'Carátula', 'Termos',\n",
              "       'Sin dato articulos electrónica', 'Loción',\n",
              "       'Elementos de la cocina', 'Envase', 'Perfumería', 'Ropa interior',\n",
              "       'Morral militar', 'Sin dato joyas', 'Amplificador de sonido',\n",
              "       'Calcio', 'Papel', 'Gasolina', 'Proveedores', 'Pulidora',\n",
              "       'Máquina industrial', 'Sin dato maquinaria y equipo',\n",
              "       'Caja desbloqueo celulares', 'Aparato médico', 'Candado', 'Cable',\n",
              "       'Contrato', 'Cigarrillo', 'Instrumento musical', 'Moneda falsa',\n",
              "       'Esposas', 'Carro comidas rápidas', 'Visa', 'Ipod',\n",
              "       'Alimentos enlatados y embutidos', 'Juegos y muñecos', 'Camioneta',\n",
              "       'Arma blanca', 'Moto', 'Escritura', 'Señales de tránsito',\n",
              "       'Camándulas', 'Escrito', 'Escarapela', 'Pasacintas',\n",
              "       'Letra de cambio', 'Pistola', 'Cuchillo', 'Radiomódem',\n",
              "       'Conmutador', 'Carreta', 'Manual', 'Paquete de software',\n",
              "       'Artículos alimenticios', 'Automóvil', 'Mobiliario del hogar',\n",
              "       'Elementos deportivos', 'Datáfono', 'Aguardiente', 'Alicate',\n",
              "       'Prendas cia. Vigilancia', 'Alcohol (químico)',\n",
              "       'Artículo para video', 'Balón de fútbol', 'Máquina', 'Escalera',\n",
              "       'Canguro', 'Avión', 'Sin dato prendas de vestir',\n",
              "       'Gato hidráulico', 'Carbohidratos y dulces', 'Remachadora',\n",
              "       'Antenas', 'Pistola neumática', 'Joyería',\n",
              "       'Elementos construcción hogar', 'Bombas', 'Silla', 'Medidor',\n",
              "       'Medicamento antiinflamatorio', 'Artículo de laboratorio',\n",
              "       'Factura', 'Atornillador', 'Oro', 'Martillo', 'Póliza de seguro',\n",
              "       'Olla', 'Acid-mantle', 'Lector', 'Lácteos', 'Linterna', 'Palma',\n",
              "       'Fuentes luminosas', 'Obra musical', 'Línea telefónica', 'Guantes',\n",
              "       'Grabadora', 'Cinturón', 'Ron', 'Sin dato mobiliario del hogar',\n",
              "       'Sin dato títulos valor', 'Cortadora', 'Fresas', 'Sin dato médico',\n",
              "       'Binoculares', 'Caladora compacta', 'Prendas ejercol',\n",
              "       'Real brasilero', 'Batidora', 'Ave salvaje', 'Ups', 'Bota militar',\n",
              "       'Productos químicos', 'Sellos', 'Permiso porte de arma',\n",
              "       'Medicamento trastorno ansiedad y mental', 'Bebidas',\n",
              "       'Lámpara de alumbrado', 'Regulador de gas', 'Acero inoxidable',\n",
              "       'Botellas', 'Monitor', 'Tapas', 'Vitamina', 'Joyero', 'Whiskey',\n",
              "       'Fulminantes', 'Dvd', 'Coche para bebe', 'Venado',\n",
              "       'Decoración del hogar', 'Sin dato armas', 'Madera', 'Planos',\n",
              "       'Carpa', 'Contador', 'Material de construcción', 'Plata', 'Cuerda',\n",
              "       'Pistola de paint ball', 'Juguete arma bélica', 'Grúa', 'Pintura',\n",
              "       'Planta eléctrica', 'Telas', 'Teléfono satelital', 'Extintor',\n",
              "       'Algodón', 'Aluminio', 'Vibrocompactador', 'Secador', 'Chance',\n",
              "       'Vidrios', 'Cobre', 'Vallas publicitarias', 'Líquido limpiador',\n",
              "       'Horno', 'Varilla', 'Fotografías', 'Hierro', 'Glucosa', 'Loterías',\n",
              "       'Báscula', 'Cilíndros de gas', 'Mesa', 'Pvc', 'Andamio', 'Vitrina',\n",
              "       'Otros animales', 'Patineta', 'Tintas para litografía', 'Cabello',\n",
              "       'Caja fuerte', 'Aspiradora', 'Chocolate', 'Gel', 'Vino', 'Pagaré',\n",
              "       'Beeper', 'Helicóptero', 'Libra esterlina inglesa', 'Plancha',\n",
              "       'Cortopunzantes', 'Alambre', 'Reata militar', 'Frutas y verduras',\n",
              "       'Toalla', 'Abono', 'Sin dato combustibles', 'Sumadora',\n",
              "       'Chaleco antibala', 'Vehículo panel', 'Pila', 'Válvulas', 'Lámina',\n",
              "       'Megáfono', 'Camión', 'Adaptador', 'Rollo de plástico',\n",
              "       'Bomba eléctrica', 'Mangueras', 'Casa', 'Sustancia reactiva',\n",
              "       'Cerveza', 'Cartón', 'Ladrillo', 'Cemento', 'Broca',\n",
              "       'Bolívar venezolano', 'Cinta', 'Productos homeopáticos',\n",
              "       'Medicamento trastorno estomacal', 'Campero', 'Alcohol',\n",
              "       'Hilos industriales', 'Rejilla', 'Ginebra', 'Sin dato autopartes',\n",
              "       'Aceite de cocina', 'Paramotor', 'Machete', 'Mallas estacionarias',\n",
              "       'Vainilla', 'Cronómetro', 'Zorro', 'Canastillas',\n",
              "       'Sin dato repuestos', 'Estampillas', 'Leche', 'Sin dato dinero',\n",
              "       'Veneno', 'Vodka', 'Suelas', 'Registradora', 'Tabaco', 'Biseles',\n",
              "       'Tequila', 'Sin dato materiales', 'Triciclo', 'Herrajes', 'Tanque',\n",
              "       'Barra', 'Lámpara secadora', 'Fusil', 'Proyector', 'Escopeta',\n",
              "       'Ave de jaula o pequeña', 'Ametralladora', 'Aeroplano',\n",
              "       'Aceite de motor', 'Esculturas', 'Vacuna', 'Carabina', 'Aceite',\n",
              "       'Discos para pulidora', 'Sucre ecuatoriano', 'Tortuga', 'Tejas',\n",
              "       'Bus', 'Telex', 'Prendedor', 'Consola', 'Material de intendencia',\n",
              "       'Piscinas inflables', 'Rollo de cinta', 'Cocaína', 'Masajeador',\n",
              "       'Platinas férreos', 'Caneca', 'Consultorio médico', 'Cerámicas',\n",
              "       'Serrucho', 'Sector residencial', 'Etiquetas',\n",
              "       'Tapa contador agua', 'Lingotes de oro', 'Solución salina',\n",
              "       'Transformador', 'Anillos plásticos', 'Suero oral', 'Interruptor',\n",
              "       'Escopolamina', 'Caja de paso', 'Sin dato munición',\n",
              "       'Elemento químico', 'Letra de ahorro', 'Divisiones', 'Balanza',\n",
              "       'Granada', 'Toma', 'Cantimplora', 'Sabajón', 'Peluquería',\n",
              "       'Bolsa plástica', 'Perdigones recargar cartuchos',\n",
              "       'Bombilla recargable', 'Armadillo', 'Vehículo tracción animal',\n",
              "       'Cartucho', 'Guadua', 'Botones', 'Sin dato mercancías',\n",
              "       'Tapa de alcantarilla', 'Lote', 'Aperitivo'], dtype=object)"
            ]
          },
          "metadata": {},
          "execution_count": 57
        }
      ]
    },
    {
      "cell_type": "code",
      "source": [
        "df.categoria_bien.unique()"
      ],
      "metadata": {
        "colab": {
          "base_uri": "https://localhost:8080/"
        },
        "id": "Yim5plUSTLm8",
        "outputId": "14775b94-6c44-4f4c-f5e6-bb42dd5cfbf9"
      },
      "execution_count": null,
      "outputs": [
        {
          "output_type": "execute_result",
          "data": {
            "text/plain": [
              "array(['Tecnología', 'Dinero, joyas, piedras preciosas y título valor',\n",
              "       'Documentos', 'Prendas de vestir y accesorios', 'Fauna',\n",
              "       'Electrodomésticos', 'Librería, Papelería y útiles', 'Alimento',\n",
              "       'Vehículos de 2 o 4 ruedas', 'Herramientas', 'Otros elementos',\n",
              "       'Maquinaria y equipo',\n",
              "       'Autoparte y elementos de la mecánica automotriz', 'Sin dato',\n",
              "       'Elementos para actividades al aire libre', 'Medicamento',\n",
              "       'Accesorios del hogar', 'Muebles', 'Arma de fuego',\n",
              "       'Elementos escolares', 'Artículos médicos',\n",
              "       'Accesorios militares, policía o vigilancia privada', 'Munición',\n",
              "       'Música', 'Elementos para guardar o almacenar', 'Combustible',\n",
              "       'Artículos de fumador', 'Camionetas', 'Arma blanca',\n",
              "       'Equipamiento vías y señalización', 'Software', 'Automóvil',\n",
              "       'Licor', 'Químicos', 'Transporte aire',\n",
              "       'Equipamiento servicios públicos', 'Materia prima',\n",
              "       'Elementos para la iluminación', 'Flora',\n",
              "       'Materiales y elementos para la construcción', 'Maquinaria pesada',\n",
              "       'Elementos para la publicidad', 'Vehículo panel',\n",
              "       'Transporte de carga pesada', 'Inmuebles', 'Arte', 'Buses',\n",
              "       'Drogas estimulantes', 'Drogas alucinógenas', 'Explosivo',\n",
              "       'Sin dato mercancías'], dtype=object)"
            ]
          },
          "metadata": {},
          "execution_count": 58
        }
      ]
    },
    {
      "cell_type": "code",
      "source": [
        "df.grupo_bien.unique()"
      ],
      "metadata": {
        "colab": {
          "base_uri": "https://localhost:8080/"
        },
        "id": "LeyAbCChTPhl",
        "outputId": "c2d3e624-b28d-4005-a501-647382502acf"
      },
      "execution_count": null,
      "outputs": [
        {
          "output_type": "execute_result",
          "data": {
            "text/plain": [
              "array(['Mercancía', 'Vehículo', 'Sin dato', 'Bélico', 'Equipamiento',\n",
              "       'Estupefaciente'], dtype=object)"
            ]
          },
          "metadata": {},
          "execution_count": 59
        }
      ]
    },
    {
      "cell_type": "code",
      "source": [
        "df.modelo.unique()"
      ],
      "metadata": {
        "colab": {
          "base_uri": "https://localhost:8080/"
        },
        "id": "FE8LnVGoTS5M",
        "outputId": "0e463041-3810-440c-c58e-cc1564a63b9d"
      },
      "execution_count": null,
      "outputs": [
        {
          "output_type": "execute_result",
          "data": {
            "text/plain": [
              "array([  -1, 2013, 2005, 2019, 2008, 2015, 2017, 2022,    0, 2018, 2020,\n",
              "       2009, 2014, 2023, 2011, 2012, 2000, 2016, 1998, 1950, 2021])"
            ]
          },
          "metadata": {},
          "execution_count": 60
        }
      ]
    },
    {
      "cell_type": "code",
      "source": [
        "df.color.unique()"
      ],
      "metadata": {
        "colab": {
          "base_uri": "https://localhost:8080/"
        },
        "id": "s5VkxiQ0TWAu",
        "outputId": "2abd706a-44a4-431a-f823-db934d8b7d88"
      },
      "execution_count": null,
      "outputs": [
        {
          "output_type": "execute_result",
          "data": {
            "text/plain": [
              "array(['Azul', 'Sin dato', 'Gris', 'Negro', 'Verde', 'Café', 'Oro',\n",
              "       'Blanco', 'Rojo', 'Plata', 'Morado', 'Bronce', 'Rosado',\n",
              "       'Amarillo', 'Beige', 'Naranja'], dtype=object)"
            ]
          },
          "metadata": {},
          "execution_count": 61
        }
      ]
    },
    {
      "cell_type": "markdown",
      "source": [],
      "metadata": {
        "id": "_5AvHQklRouF"
      }
    },
    {
      "cell_type": "markdown",
      "source": [
        "* fecha_hecho,\n",
        "* cantidad,\n",
        "* latitud,\n",
        "* longitud,\n",
        "* sexo,\n",
        "* edad,\n",
        "* estado_civil,\n",
        "* grupo_actor,\n",
        "* actividad_delictiva,\n",
        "* parentesco,\n",
        "* ocupacion,\n",
        "* discapacidad,\n",
        "* grupo_especial,\n",
        "* medio_transporte,\n",
        "* nivel_academico,\n",
        "* testigo,\n",
        "* conducta,\n",
        "* modalidad,\n",
        "* caracterizacion,\n",
        "* conducta_especial,\n",
        "* arma_medio,\n",
        "* articulo_penal,\n",
        "* categoria_penal,\n",
        "* nombre_barrio,\n",
        "* codigo_barrio,\n",
        "* codigo_comuna,\n",
        "* lugar,\n",
        "* sede_receptora,\n",
        "* bien,\n",
        "* categoria_bien,\n",
        "* grupo_bien,\n",
        "* modelo,\n",
        "* color,\n",
        "* permiso,\n",
        "* unidad_medida,\n",
        "* fecha_ingestion"
      ],
      "metadata": {
        "id": "fFBEDEITKY0a"
      }
    },
    {
      "cell_type": "code",
      "source": [
        "borrar = ['fecha_ingestion','unidad_medida','permiso','categoria_penal','articulo_penal','caracterizacion','conducta','testigo','nivel_academico','grupo_especial','discapacidad','ocupacion','parentesco',\n",
        "          'actividad_delictiva','grupo_actor','cantidad']"
      ],
      "metadata": {
        "id": "q5Az_gqqJtc2"
      },
      "execution_count": 55,
      "outputs": []
    },
    {
      "cell_type": "code",
      "source": [
        "df.drop(columns=borrar, inplace=True)"
      ],
      "metadata": {
        "id": "EXpmslnvKDDu"
      },
      "execution_count": 56,
      "outputs": []
    },
    {
      "cell_type": "code",
      "source": [
        "df.shape"
      ],
      "metadata": {
        "colab": {
          "base_uri": "https://localhost:8080/"
        },
        "id": "a2BjS-15ULCm",
        "outputId": "542c067b-f34e-4879-cc16-ee0d34be41ff"
      },
      "execution_count": 57,
      "outputs": [
        {
          "output_type": "execute_result",
          "data": {
            "text/plain": [
              "(181204, 20)"
            ]
          },
          "metadata": {},
          "execution_count": 57
        }
      ]
    },
    {
      "cell_type": "code",
      "source": [
        "df.head()"
      ],
      "metadata": {
        "colab": {
          "base_uri": "https://localhost:8080/",
          "height": 444
        },
        "id": "v8Us5hWXULqp",
        "outputId": "eca6475b-c9b5-47dd-d760-cd33a60a2d4e"
      },
      "execution_count": 58,
      "outputs": [
        {
          "output_type": "execute_result",
          "data": {
            "text/plain": [
              "                fecha_hecho   latitud   longitud    sexo  edad  \\\n",
              "0 2020-01-07 15:30:00-05:00  6.254597 -75.564769  Hombre    54   \n",
              "1 2020-01-07 06:30:00-05:00  6.233387 -75.544787   Mujer    36   \n",
              "2 2020-01-07 07:50:00-05:00  6.235646 -75.563605   Mujer    35   \n",
              "3 2020-01-07 11:00:00-05:00  6.254530 -75.562335  Hombre    38   \n",
              "4 2020-01-07 11:00:00-05:00  6.254163 -75.622267  Hombre    28   \n",
              "\n",
              "             estado_civil medio_transporte              modalidad  \\\n",
              "0           Divorciado(a)         Caminata               Raponazo   \n",
              "1  Unión marital de hecho         Caminata               Raponazo   \n",
              "2              Soltero(a)         Caminata                 Atraco   \n",
              "3               Casado(a)        Automóvil  Rompimiento cerraduta   \n",
              "4  Unión marital de hecho         Caminata                 Atraco   \n",
              "\n",
              "  conducta_especial     arma_medio         nombre_barrio codigo_barrio  \\\n",
              "0          Sin dato             No           Villa Nueva         #1018   \n",
              "1                No             No  Los Cerros el Vergel         #0904   \n",
              "2        De celular             No           El Salvador         #0912   \n",
              "3          Sin dato             No           Villa Nueva         #1018   \n",
              "4          Sin dato  Arma de fuego             El Salado         #1316   \n",
              "\n",
              "  codigo_comuna                  lugar sede_receptora              bien  \\\n",
              "0            10            Vía pública     Candelaria           Celular   \n",
              "1             9             Residencia   Buenos Aires  Tarjeta bancaria   \n",
              "2             9        Paradero de bus   Buenos Aires           Celular   \n",
              "3            10        Taller mecánico     Candelaria   Libreta militar   \n",
              "4            13  Almacén tienda y otro     San Javier              Peso   \n",
              "\n",
              "                                    categoria_bien grupo_bien  modelo  \\\n",
              "0                                       Tecnología  Mercancía      -1   \n",
              "1  Dinero, joyas, piedras preciosas y título valor  Mercancía      -1   \n",
              "2                                       Tecnología  Mercancía      -1   \n",
              "3                                       Documentos  Mercancía      -1   \n",
              "4  Dinero, joyas, piedras preciosas y título valor  Mercancía      -1   \n",
              "\n",
              "      color  \n",
              "0      Azul  \n",
              "1  Sin dato  \n",
              "2      Gris  \n",
              "3  Sin dato  \n",
              "4  Sin dato  "
            ],
            "text/html": [
              "\n",
              "  <div id=\"df-924272f3-2174-4050-8f0f-ce3441641591\">\n",
              "    <div class=\"colab-df-container\">\n",
              "      <div>\n",
              "<style scoped>\n",
              "    .dataframe tbody tr th:only-of-type {\n",
              "        vertical-align: middle;\n",
              "    }\n",
              "\n",
              "    .dataframe tbody tr th {\n",
              "        vertical-align: top;\n",
              "    }\n",
              "\n",
              "    .dataframe thead th {\n",
              "        text-align: right;\n",
              "    }\n",
              "</style>\n",
              "<table border=\"1\" class=\"dataframe\">\n",
              "  <thead>\n",
              "    <tr style=\"text-align: right;\">\n",
              "      <th></th>\n",
              "      <th>fecha_hecho</th>\n",
              "      <th>latitud</th>\n",
              "      <th>longitud</th>\n",
              "      <th>sexo</th>\n",
              "      <th>edad</th>\n",
              "      <th>estado_civil</th>\n",
              "      <th>medio_transporte</th>\n",
              "      <th>modalidad</th>\n",
              "      <th>conducta_especial</th>\n",
              "      <th>arma_medio</th>\n",
              "      <th>nombre_barrio</th>\n",
              "      <th>codigo_barrio</th>\n",
              "      <th>codigo_comuna</th>\n",
              "      <th>lugar</th>\n",
              "      <th>sede_receptora</th>\n",
              "      <th>bien</th>\n",
              "      <th>categoria_bien</th>\n",
              "      <th>grupo_bien</th>\n",
              "      <th>modelo</th>\n",
              "      <th>color</th>\n",
              "    </tr>\n",
              "  </thead>\n",
              "  <tbody>\n",
              "    <tr>\n",
              "      <th>0</th>\n",
              "      <td>2020-01-07 15:30:00-05:00</td>\n",
              "      <td>6.254597</td>\n",
              "      <td>-75.564769</td>\n",
              "      <td>Hombre</td>\n",
              "      <td>54</td>\n",
              "      <td>Divorciado(a)</td>\n",
              "      <td>Caminata</td>\n",
              "      <td>Raponazo</td>\n",
              "      <td>Sin dato</td>\n",
              "      <td>No</td>\n",
              "      <td>Villa Nueva</td>\n",
              "      <td>#1018</td>\n",
              "      <td>10</td>\n",
              "      <td>Vía pública</td>\n",
              "      <td>Candelaria</td>\n",
              "      <td>Celular</td>\n",
              "      <td>Tecnología</td>\n",
              "      <td>Mercancía</td>\n",
              "      <td>-1</td>\n",
              "      <td>Azul</td>\n",
              "    </tr>\n",
              "    <tr>\n",
              "      <th>1</th>\n",
              "      <td>2020-01-07 06:30:00-05:00</td>\n",
              "      <td>6.233387</td>\n",
              "      <td>-75.544787</td>\n",
              "      <td>Mujer</td>\n",
              "      <td>36</td>\n",
              "      <td>Unión marital de hecho</td>\n",
              "      <td>Caminata</td>\n",
              "      <td>Raponazo</td>\n",
              "      <td>No</td>\n",
              "      <td>No</td>\n",
              "      <td>Los Cerros el Vergel</td>\n",
              "      <td>#0904</td>\n",
              "      <td>9</td>\n",
              "      <td>Residencia</td>\n",
              "      <td>Buenos Aires</td>\n",
              "      <td>Tarjeta bancaria</td>\n",
              "      <td>Dinero, joyas, piedras preciosas y título valor</td>\n",
              "      <td>Mercancía</td>\n",
              "      <td>-1</td>\n",
              "      <td>Sin dato</td>\n",
              "    </tr>\n",
              "    <tr>\n",
              "      <th>2</th>\n",
              "      <td>2020-01-07 07:50:00-05:00</td>\n",
              "      <td>6.235646</td>\n",
              "      <td>-75.563605</td>\n",
              "      <td>Mujer</td>\n",
              "      <td>35</td>\n",
              "      <td>Soltero(a)</td>\n",
              "      <td>Caminata</td>\n",
              "      <td>Atraco</td>\n",
              "      <td>De celular</td>\n",
              "      <td>No</td>\n",
              "      <td>El Salvador</td>\n",
              "      <td>#0912</td>\n",
              "      <td>9</td>\n",
              "      <td>Paradero de bus</td>\n",
              "      <td>Buenos Aires</td>\n",
              "      <td>Celular</td>\n",
              "      <td>Tecnología</td>\n",
              "      <td>Mercancía</td>\n",
              "      <td>-1</td>\n",
              "      <td>Gris</td>\n",
              "    </tr>\n",
              "    <tr>\n",
              "      <th>3</th>\n",
              "      <td>2020-01-07 11:00:00-05:00</td>\n",
              "      <td>6.254530</td>\n",
              "      <td>-75.562335</td>\n",
              "      <td>Hombre</td>\n",
              "      <td>38</td>\n",
              "      <td>Casado(a)</td>\n",
              "      <td>Automóvil</td>\n",
              "      <td>Rompimiento cerraduta</td>\n",
              "      <td>Sin dato</td>\n",
              "      <td>No</td>\n",
              "      <td>Villa Nueva</td>\n",
              "      <td>#1018</td>\n",
              "      <td>10</td>\n",
              "      <td>Taller mecánico</td>\n",
              "      <td>Candelaria</td>\n",
              "      <td>Libreta militar</td>\n",
              "      <td>Documentos</td>\n",
              "      <td>Mercancía</td>\n",
              "      <td>-1</td>\n",
              "      <td>Sin dato</td>\n",
              "    </tr>\n",
              "    <tr>\n",
              "      <th>4</th>\n",
              "      <td>2020-01-07 11:00:00-05:00</td>\n",
              "      <td>6.254163</td>\n",
              "      <td>-75.622267</td>\n",
              "      <td>Hombre</td>\n",
              "      <td>28</td>\n",
              "      <td>Unión marital de hecho</td>\n",
              "      <td>Caminata</td>\n",
              "      <td>Atraco</td>\n",
              "      <td>Sin dato</td>\n",
              "      <td>Arma de fuego</td>\n",
              "      <td>El Salado</td>\n",
              "      <td>#1316</td>\n",
              "      <td>13</td>\n",
              "      <td>Almacén tienda y otro</td>\n",
              "      <td>San Javier</td>\n",
              "      <td>Peso</td>\n",
              "      <td>Dinero, joyas, piedras preciosas y título valor</td>\n",
              "      <td>Mercancía</td>\n",
              "      <td>-1</td>\n",
              "      <td>Sin dato</td>\n",
              "    </tr>\n",
              "  </tbody>\n",
              "</table>\n",
              "</div>\n",
              "      <button class=\"colab-df-convert\" onclick=\"convertToInteractive('df-924272f3-2174-4050-8f0f-ce3441641591')\"\n",
              "              title=\"Convert this dataframe to an interactive table.\"\n",
              "              style=\"display:none;\">\n",
              "        \n",
              "  <svg xmlns=\"http://www.w3.org/2000/svg\" height=\"24px\"viewBox=\"0 0 24 24\"\n",
              "       width=\"24px\">\n",
              "    <path d=\"M0 0h24v24H0V0z\" fill=\"none\"/>\n",
              "    <path d=\"M18.56 5.44l.94 2.06.94-2.06 2.06-.94-2.06-.94-.94-2.06-.94 2.06-2.06.94zm-11 1L8.5 8.5l.94-2.06 2.06-.94-2.06-.94L8.5 2.5l-.94 2.06-2.06.94zm10 10l.94 2.06.94-2.06 2.06-.94-2.06-.94-.94-2.06-.94 2.06-2.06.94z\"/><path d=\"M17.41 7.96l-1.37-1.37c-.4-.4-.92-.59-1.43-.59-.52 0-1.04.2-1.43.59L10.3 9.45l-7.72 7.72c-.78.78-.78 2.05 0 2.83L4 21.41c.39.39.9.59 1.41.59.51 0 1.02-.2 1.41-.59l7.78-7.78 2.81-2.81c.8-.78.8-2.07 0-2.86zM5.41 20L4 18.59l7.72-7.72 1.47 1.35L5.41 20z\"/>\n",
              "  </svg>\n",
              "      </button>\n",
              "      \n",
              "  <style>\n",
              "    .colab-df-container {\n",
              "      display:flex;\n",
              "      flex-wrap:wrap;\n",
              "      gap: 12px;\n",
              "    }\n",
              "\n",
              "    .colab-df-convert {\n",
              "      background-color: #E8F0FE;\n",
              "      border: none;\n",
              "      border-radius: 50%;\n",
              "      cursor: pointer;\n",
              "      display: none;\n",
              "      fill: #1967D2;\n",
              "      height: 32px;\n",
              "      padding: 0 0 0 0;\n",
              "      width: 32px;\n",
              "    }\n",
              "\n",
              "    .colab-df-convert:hover {\n",
              "      background-color: #E2EBFA;\n",
              "      box-shadow: 0px 1px 2px rgba(60, 64, 67, 0.3), 0px 1px 3px 1px rgba(60, 64, 67, 0.15);\n",
              "      fill: #174EA6;\n",
              "    }\n",
              "\n",
              "    [theme=dark] .colab-df-convert {\n",
              "      background-color: #3B4455;\n",
              "      fill: #D2E3FC;\n",
              "    }\n",
              "\n",
              "    [theme=dark] .colab-df-convert:hover {\n",
              "      background-color: #434B5C;\n",
              "      box-shadow: 0px 1px 3px 1px rgba(0, 0, 0, 0.15);\n",
              "      filter: drop-shadow(0px 1px 2px rgba(0, 0, 0, 0.3));\n",
              "      fill: #FFFFFF;\n",
              "    }\n",
              "  </style>\n",
              "\n",
              "      <script>\n",
              "        const buttonEl =\n",
              "          document.querySelector('#df-924272f3-2174-4050-8f0f-ce3441641591 button.colab-df-convert');\n",
              "        buttonEl.style.display =\n",
              "          google.colab.kernel.accessAllowed ? 'block' : 'none';\n",
              "\n",
              "        async function convertToInteractive(key) {\n",
              "          const element = document.querySelector('#df-924272f3-2174-4050-8f0f-ce3441641591');\n",
              "          const dataTable =\n",
              "            await google.colab.kernel.invokeFunction('convertToInteractive',\n",
              "                                                     [key], {});\n",
              "          if (!dataTable) return;\n",
              "\n",
              "          const docLinkHtml = 'Like what you see? Visit the ' +\n",
              "            '<a target=\"_blank\" href=https://colab.research.google.com/notebooks/data_table.ipynb>data table notebook</a>'\n",
              "            + ' to learn more about interactive tables.';\n",
              "          element.innerHTML = '';\n",
              "          dataTable['output_type'] = 'display_data';\n",
              "          await google.colab.output.renderOutput(dataTable, element);\n",
              "          const docLink = document.createElement('div');\n",
              "          docLink.innerHTML = docLinkHtml;\n",
              "          element.appendChild(docLink);\n",
              "        }\n",
              "      </script>\n",
              "    </div>\n",
              "  </div>\n",
              "  "
            ]
          },
          "metadata": {},
          "execution_count": 58
        }
      ]
    },
    {
      "cell_type": "code",
      "source": [
        "df.columns"
      ],
      "metadata": {
        "colab": {
          "base_uri": "https://localhost:8080/"
        },
        "id": "60IoJvBb6q-z",
        "outputId": "32636a51-313e-4d0b-f3f8-38916d3e48b9"
      },
      "execution_count": 59,
      "outputs": [
        {
          "output_type": "execute_result",
          "data": {
            "text/plain": [
              "Index(['fecha_hecho', 'latitud', 'longitud', 'sexo', 'edad', 'estado_civil',\n",
              "       'medio_transporte', 'modalidad', 'conducta_especial', 'arma_medio',\n",
              "       'nombre_barrio', 'codigo_barrio', 'codigo_comuna', 'lugar',\n",
              "       'sede_receptora', 'bien', 'categoria_bien', 'grupo_bien', 'modelo',\n",
              "       'color'],\n",
              "      dtype='object')"
            ]
          },
          "metadata": {},
          "execution_count": 59
        }
      ]
    },
    {
      "cell_type": "markdown",
      "source": [
        "Revisemos nulidad dentro de estos valores"
      ],
      "metadata": {
        "id": "tostNSu67NCN"
      }
    },
    {
      "cell_type": "code",
      "source": [
        "df.info()"
      ],
      "metadata": {
        "colab": {
          "base_uri": "https://localhost:8080/"
        },
        "id": "Hq5RDERH7MZO",
        "outputId": "9be7ce43-05e2-4e37-b8e7-5a592ca3cb8a"
      },
      "execution_count": 60,
      "outputs": [
        {
          "output_type": "stream",
          "name": "stdout",
          "text": [
            "<class 'pandas.core.frame.DataFrame'>\n",
            "RangeIndex: 181204 entries, 0 to 181203\n",
            "Data columns (total 20 columns):\n",
            " #   Column             Non-Null Count   Dtype                                 \n",
            "---  ------             --------------   -----                                 \n",
            " 0   fecha_hecho        181204 non-null  datetime64[ns, pytz.FixedOffset(-300)]\n",
            " 1   latitud            181204 non-null  float64                               \n",
            " 2   longitud           181204 non-null  float64                               \n",
            " 3   sexo               181204 non-null  object                                \n",
            " 4   edad               181204 non-null  int64                                 \n",
            " 5   estado_civil       181204 non-null  object                                \n",
            " 6   medio_transporte   181204 non-null  object                                \n",
            " 7   modalidad          181204 non-null  object                                \n",
            " 8   conducta_especial  181204 non-null  object                                \n",
            " 9   arma_medio         181204 non-null  object                                \n",
            " 10  nombre_barrio      181204 non-null  object                                \n",
            " 11  codigo_barrio      181204 non-null  object                                \n",
            " 12  codigo_comuna      181204 non-null  object                                \n",
            " 13  lugar              181204 non-null  object                                \n",
            " 14  sede_receptora     181204 non-null  object                                \n",
            " 15  bien               181204 non-null  object                                \n",
            " 16  categoria_bien     181204 non-null  object                                \n",
            " 17  grupo_bien         181204 non-null  object                                \n",
            " 18  modelo             181204 non-null  int64                                 \n",
            " 19  color              181204 non-null  object                                \n",
            "dtypes: datetime64[ns, pytz.FixedOffset(-300)](1), float64(2), int64(2), object(15)\n",
            "memory usage: 27.6+ MB\n"
          ]
        }
      ]
    },
    {
      "cell_type": "markdown",
      "source": [
        "## **Guardado de datos**"
      ],
      "metadata": {
        "id": "DxFN8GQi7SZ4"
      }
    },
    {
      "cell_type": "code",
      "source": [
        "df2 = df[['fecha_hecho','latitud', 'longitud','codigo_barrio', 'codigo_comuna','lugar']]"
      ],
      "metadata": {
        "id": "36rH5kLAURyR"
      },
      "execution_count": null,
      "outputs": []
    },
    {
      "cell_type": "code",
      "source": [
        "df2.to_csv('/content/drive/MyDrive/Maestria_eafit/data/hurto_depurado.csv', sep='|')"
      ],
      "metadata": {
        "id": "HIyATQAZtdlt"
      },
      "execution_count": null,
      "outputs": []
    },
    {
      "cell_type": "code",
      "source": [
        "df.to_csv('/content/drive/MyDrive/Maestria_eafit/data/hurto_completo.csv', sep='|')"
      ],
      "metadata": {
        "id": "IbjHLMm3teLn"
      },
      "execution_count": null,
      "outputs": []
    },
    {
      "cell_type": "code",
      "source": [
        "df.info()"
      ],
      "metadata": {
        "colab": {
          "base_uri": "https://localhost:8080/"
        },
        "id": "K2ZPxLbQH_Jc",
        "outputId": "3692a24f-6bd2-47b8-e5e5-12470ba2d88d"
      },
      "execution_count": null,
      "outputs": [
        {
          "output_type": "stream",
          "name": "stdout",
          "text": [
            "<class 'pandas.core.frame.DataFrame'>\n",
            "RangeIndex: 181204 entries, 0 to 181203\n",
            "Data columns (total 20 columns):\n",
            " #   Column             Non-Null Count   Dtype                                 \n",
            "---  ------             --------------   -----                                 \n",
            " 0   fecha_hecho        181204 non-null  datetime64[ns, pytz.FixedOffset(-300)]\n",
            " 1   latitud            181204 non-null  float64                               \n",
            " 2   longitud           181204 non-null  float64                               \n",
            " 3   sexo               181204 non-null  object                                \n",
            " 4   edad               181204 non-null  int64                                 \n",
            " 5   estado_civil       181204 non-null  object                                \n",
            " 6   medio_transporte   181204 non-null  object                                \n",
            " 7   modalidad          181204 non-null  object                                \n",
            " 8   conducta_especial  181204 non-null  object                                \n",
            " 9   arma_medio         181204 non-null  object                                \n",
            " 10  nombre_barrio      181204 non-null  object                                \n",
            " 11  codigo_barrio      181204 non-null  object                                \n",
            " 12  codigo_comuna      181204 non-null  object                                \n",
            " 13  lugar              181204 non-null  object                                \n",
            " 14  sede_receptora     181204 non-null  object                                \n",
            " 15  bien               181204 non-null  object                                \n",
            " 16  categoria_bien     181204 non-null  object                                \n",
            " 17  grupo_bien         181204 non-null  object                                \n",
            " 18  modelo             181204 non-null  int64                                 \n",
            " 19  color              181204 non-null  object                                \n",
            "dtypes: datetime64[ns, pytz.FixedOffset(-300)](1), float64(2), int64(2), object(15)\n",
            "memory usage: 27.6+ MB\n"
          ]
        }
      ]
    },
    {
      "cell_type": "code",
      "source": [],
      "metadata": {
        "id": "v9TILhfIMnQ6"
      },
      "execution_count": null,
      "outputs": []
    }
  ]
}